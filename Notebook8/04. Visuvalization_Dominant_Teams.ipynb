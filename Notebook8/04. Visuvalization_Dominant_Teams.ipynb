{
 "cells": [
  {
   "cell_type": "code",
   "execution_count": 0,
   "metadata": {
    "application/vnd.databricks.v1+cell": {
     "cellMetadata": {
      "byteLimit": 2048000,
      "rowLimit": 10000
     },
     "inputWidgets": {},
     "nuid": "6a1a4199-d020-46b2-8359-eed2e1bb10ed",
     "showTitle": false,
     "tableResultSettingsMap": {},
     "title": ""
    }
   },
   "outputs": [
    {
     "output_type": "display_data",
     "data": {
      "text/html": [
       "<h1 style=\"color:Black;text-align:center;font-family:Ariel\">Report on Dominant Formula 1 Teams</h1>"
      ]
     },
     "metadata": {
      "application/vnd.databricks.v1+output": {
       "addedWidgets": {},
       "arguments": {},
       "data": "<h1 style=\"color:Black;text-align:center;font-family:Ariel\">Report on Dominant Formula 1 Teams</h1>",
       "datasetInfos": [],
       "metadata": {},
       "removedWidgets": [],
       "textData": null,
       "type": "htmlSandbox"
      }
     },
     "output_type": "display_data"
    }
   ],
   "source": [
    "%python\n",
    "\n",
    "html=\"\"\"<h1 style=\"color:Black;text-align:center;font-family:Ariel\">Report on Dominant Formula 1 Teams</h1>\"\"\"\n",
    "\n",
    "displayHTML(html)"
   ]
  },
  {
   "cell_type": "code",
   "execution_count": 0,
   "metadata": {
    "application/vnd.databricks.v1+cell": {
     "cellMetadata": {
      "byteLimit": 2048000,
      "rowLimit": 10000
     },
     "inputWidgets": {},
     "nuid": "df4e0425-7eb9-4cc3-9a70-2cdbdcc54252",
     "showTitle": false,
     "tableResultSettingsMap": {},
     "title": ""
    }
   },
   "outputs": [
    {
     "output_type": "display_data",
     "data": {
      "text/html": [
       "<style scoped>\n",
       "  .table-result-container {\n",
       "    max-height: 300px;\n",
       "    overflow: auto;\n",
       "  }\n",
       "  table, th, td {\n",
       "    border: 1px solid black;\n",
       "    border-collapse: collapse;\n",
       "  }\n",
       "  th, td {\n",
       "    padding: 5px;\n",
       "  }\n",
       "  th {\n",
       "    text-align: left;\n",
       "  }\n",
       "</style><div class='table-result-container'><table class='table-result'><thead style='background-color: white'><tr></tr></thead><tbody></tbody></table></div>"
      ]
     },
     "metadata": {
      "application/vnd.databricks.v1+output": {
       "addedWidgets": {},
       "aggData": [],
       "aggError": "",
       "aggOverflow": false,
       "aggSchema": [],
       "aggSeriesLimitReached": false,
       "aggType": "",
       "arguments": {},
       "columnCustomDisplayInfos": {},
       "data": [],
       "datasetInfos": [],
       "dbfsResultPath": null,
       "isJsonSchema": true,
       "metadata": {
        "isDbfsCommandResult": false
       },
       "overflow": false,
       "plotOptions": {
        "customPlotOptions": {},
        "displayType": "table",
        "pivotAggregation": null,
        "pivotColumns": null,
        "xColumns": null,
        "yColumns": null
       },
       "removedWidgets": [],
       "schema": [],
       "type": "table"
      }
     },
     "output_type": "display_data"
    }
   ],
   "source": [
    "\n",
    "CREATE OR REPLACE TEMP view d_dominant_teams as \n",
    "SELECT team_name,\n",
    "count(1) as total_races,\n",
    "SUM(calculated_points) as total_points,\n",
    "avg(calculated_points) as average_points,\n",
    "RANK() OVER(ORDER BY avg(calculated_points) DESC ) team\n",
    "from f1_presentation.calculate_race_results\n",
    "GROUP by team_name\n",
    "having count(1)>=100\n",
    "ORDER BY average_points DESC;"
   ]
  },
  {
   "cell_type": "code",
   "execution_count": 0,
   "metadata": {
    "application/vnd.databricks.v1+cell": {
     "cellMetadata": {
      "byteLimit": 2048000,
      "rowLimit": 10000
     },
     "inputWidgets": {},
     "nuid": "3f665b02-3aab-4d47-9cff-645395e29b39",
     "showTitle": false,
     "tableResultSettingsMap": {},
     "title": ""
    }
   },
   "outputs": [
    {
     "output_type": "display_data",
     "data": {
      "text/html": [
       "<style scoped>\n",
       "  .table-result-container {\n",
       "    max-height: 300px;\n",
       "    overflow: auto;\n",
       "  }\n",
       "  table, th, td {\n",
       "    border: 1px solid black;\n",
       "    border-collapse: collapse;\n",
       "  }\n",
       "  th, td {\n",
       "    padding: 5px;\n",
       "  }\n",
       "  th {\n",
       "    text-align: left;\n",
       "  }\n",
       "</style><div class='table-result-container'><table class='table-result'><thead style='background-color: white'><tr><th>race_year</th><th>team_name</th><th>total_races</th><th>total_points</th><th>average_points</th></tr></thead><tbody><tr><td>1950</td><td>Ferrari</td><td>8</td><td>57.0</td><td>7.125</td></tr><tr><td>1951</td><td>Ferrari</td><td>22</td><td>168.0</td><td>7.636363636363637</td></tr><tr><td>1952</td><td>Ferrari</td><td>28</td><td>202.0</td><td>7.214285714285714</td></tr><tr><td>1953</td><td>Ferrari</td><td>35</td><td>230.0</td><td>6.571428571428571</td></tr><tr><td>1954</td><td>Mercedes</td><td>12</td><td>96.0</td><td>8.0</td></tr><tr><td>1954</td><td>Ferrari</td><td>25</td><td>175.0</td><td>7.0</td></tr><tr><td>1955</td><td>Mercedes</td><td>15</td><td>124.0</td><td>8.266666666666667</td></tr><tr><td>1955</td><td>Ferrari</td><td>21</td><td>131.0</td><td>6.238095238095238</td></tr><tr><td>1956</td><td>Ferrari</td><td>23</td><td>172.0</td><td>7.478260869565218</td></tr><tr><td>1957</td><td>Ferrari</td><td>20</td><td>130.0</td><td>6.5</td></tr><tr><td>1958</td><td>Ferrari</td><td>21</td><td>159.0</td><td>7.571428571428571</td></tr><tr><td>1959</td><td>Ferrari</td><td>19</td><td>132.0</td><td>6.947368421052632</td></tr><tr><td>1960</td><td>Ferrari</td><td>17</td><td>102.0</td><td>6.0</td></tr><tr><td>1961</td><td>Ferrari</td><td>19</td><td>152.0</td><td>8.0</td></tr><tr><td>1962</td><td>Ferrari</td><td>12</td><td>73.0</td><td>6.083333333333333</td></tr><tr><td>1963</td><td>Ferrari</td><td>8</td><td>53.0</td><td>6.625</td></tr><tr><td>1964</td><td>Ferrari</td><td>15</td><td>105.0</td><td>7.0</td></tr><tr><td>1965</td><td>Ferrari</td><td>16</td><td>86.0</td><td>5.375</td></tr><tr><td>1966</td><td>Ferrari</td><td>8</td><td>65.0</td><td>8.125</td></tr><tr><td>1967</td><td>Ferrari</td><td>11</td><td>64.0</td><td>5.818181818181818</td></tr><tr><td>1968</td><td>Ferrari</td><td>10</td><td>70.0</td><td>7.0</td></tr><tr><td>1969</td><td>Ferrari</td><td>4</td><td>23.0</td><td>5.75</td></tr><tr><td>1970</td><td>Ferrari</td><td>15</td><td>119.0</td><td>7.933333333333334</td></tr><tr><td>1971</td><td>Ferrari</td><td>11</td><td>79.0</td><td>7.181818181818182</td></tr><tr><td>1971</td><td>McLaren</td><td>11</td><td>46.0</td><td>4.181818181818182</td></tr><tr><td>1972</td><td>McLaren</td><td>20</td><td>136.0</td><td>6.8</td></tr><tr><td>1972</td><td>Ferrari</td><td>15</td><td>99.0</td><td>6.6</td></tr><tr><td>1973</td><td>McLaren</td><td>24</td><td>147.0</td><td>6.125</td></tr><tr><td>1973</td><td>Ferrari</td><td>11</td><td>54.0</td><td>4.909090909090909</td></tr><tr><td>1974</td><td>Ferrari</td><td>17</td><td>142.0</td><td>8.352941176470589</td></tr><tr><td>1974</td><td>McLaren</td><td>31</td><td>187.0</td><td>6.032258064516129</td></tr><tr><td>1975</td><td>Ferrari</td><td>20</td><td>150.0</td><td>7.5</td></tr><tr><td>1975</td><td>McLaren</td><td>18</td><td>127.0</td><td>7.055555555555555</td></tr><tr><td>1975</td><td>Williams</td><td>2</td><td>13.0</td><td>6.5</td></tr><tr><td>1976</td><td>McLaren</td><td>20</td><td>147.0</td><td>7.35</td></tr><tr><td>1976</td><td>Ferrari</td><td>22</td><td>159.0</td><td>7.2272727272727275</td></tr><tr><td>1976</td><td>Williams</td><td>1</td><td>2.0</td><td>2.0</td></tr><tr><td>1977</td><td>Ferrari</td><td>24</td><td>189.0</td><td>7.875</td></tr><tr><td>1977</td><td>McLaren</td><td>20</td><td>124.0</td><td>6.2</td></tr><tr><td>1978</td><td>Ferrari</td><td>20</td><td>119.0</td><td>5.95</td></tr><tr><td>1978</td><td>Williams</td><td>7</td><td>32.0</td><td>4.571428571428571</td></tr><tr><td>1978</td><td>McLaren</td><td>21</td><td>86.0</td><td>4.095238095238095</td></tr><tr><td>1979</td><td>Ferrari</td><td>24</td><td>183.0</td><td>7.625</td></tr><tr><td>1979</td><td>Williams</td><td>17</td><td>117.0</td><td>6.882352941176471</td></tr><tr><td>1979</td><td>McLaren</td><td>13</td><td>55.0</td><td>4.230769230769231</td></tr><tr><td>1980</td><td>Williams</td><td>22</td><td>182.0</td><td>8.272727272727273</td></tr><tr><td>1980</td><td>McLaren</td><td>10</td><td>50.0</td><td>5.0</td></tr><tr><td>1980</td><td>Ferrari</td><td>12</td><td>47.0</td><td>3.9166666666666665</td></tr><tr><td>1981</td><td>Williams</td><td>21</td><td>154.0</td><td>7.333333333333333</td></tr><tr><td>1981</td><td>Ferrari</td><td>13</td><td>72.0</td><td>5.538461538461538</td></tr><tr><td>1981</td><td>McLaren</td><td>13</td><td>70.0</td><td>5.384615384615385</td></tr><tr><td>1982</td><td>Ferrari</td><td>16</td><td>122.0</td><td>7.625</td></tr><tr><td>1982</td><td>McLaren</td><td>17</td><td>118.0</td><td>6.9411764705882355</td></tr><tr><td>1982</td><td>Williams</td><td>20</td><td>128.0</td><td>6.4</td></tr><tr><td>1983</td><td>Ferrari</td><td>20</td><td>148.0</td><td>7.4</td></tr><tr><td>1983</td><td>McLaren</td><td>12</td><td>74.0</td><td>6.166666666666667</td></tr><tr><td>1983</td><td>Williams</td><td>16</td><td>94.0</td><td>5.875</td></tr><tr><td>1984</td><td>McLaren</td><td>21</td><td>191.0</td><td>9.095238095238095</td></tr><tr><td>1984</td><td>Ferrari</td><td>18</td><td>123.0</td><td>6.833333333333333</td></tr><tr><td>1984</td><td>Williams</td><td>10</td><td>60.0</td><td>6.0</td></tr><tr><td>1985</td><td>McLaren</td><td>16</td><td>134.0</td><td>8.375</td></tr><tr><td>1985</td><td>Ferrari</td><td>20</td><td>147.0</td><td>7.35</td></tr><tr><td>1985</td><td>Williams</td><td>17</td><td>123.0</td><td>7.235294117647059</td></tr><tr><td>1986</td><td>Williams</td><td>24</td><td>205.0</td><td>8.541666666666666</td></tr><tr><td>1986</td><td>McLaren</td><td>21</td><td>161.0</td><td>7.666666666666667</td></tr><tr><td>1986</td><td>Ferrari</td><td>15</td><td>88.0</td><td>5.866666666666666</td></tr><tr><td>1987</td><td>Williams</td><td>22</td><td>189.0</td><td>8.590909090909092</td></tr><tr><td>1987</td><td>Ferrari</td><td>12</td><td>92.0</td><td>7.666666666666667</td></tr><tr><td>1987</td><td>McLaren</td><td>22</td><td>149.0</td><td>6.7727272727272725</td></tr><tr><td>1988</td><td>McLaren</td><td>28</td><td>253.0</td><td>9.035714285714286</td></tr><tr><td>1988</td><td>Ferrari</td><td>18</td><td>129.0</td><td>7.166666666666667</td></tr><tr><td>1988</td><td>Williams</td><td>10</td><td>57.0</td><td>5.7</td></tr><tr><td>1989</td><td>Ferrari</td><td>9</td><td>82.0</td><td>9.11111111111111</td></tr><tr><td>1989</td><td>McLaren</td><td>21</td><td>188.0</td><td>8.952380952380953</td></tr><tr><td>1989</td><td>Williams</td><td>19</td><td>137.0</td><td>7.2105263157894735</td></tr><tr><td>1990</td><td>Ferrari</td><td>19</td><td>163.0</td><td>8.578947368421053</td></tr><tr><td>1990</td><td>McLaren</td><td>22</td><td>187.0</td><td>8.5</td></tr><tr><td>1990</td><td>Williams</td><td>21</td><td>130.0</td><td>6.190476190476191</td></tr><tr><td>1991</td><td>Williams</td><td>21</td><td>179.0</td><td>8.523809523809524</td></tr><tr><td>1991</td><td>McLaren</td><td>24</td><td>204.0</td><td>8.5</td></tr><tr><td>1991</td><td>Ferrari</td><td>16</td><td>117.0</td><td>7.3125</td></tr><tr><td>1992</td><td>Williams</td><td>23</td><td>206.0</td><td>8.956521739130435</td></tr><tr><td>1992</td><td>McLaren</td><td>19</td><td>150.0</td><td>7.894736842105263</td></tr><tr><td>1992</td><td>Ferrari</td><td>10</td><td>56.0</td><td>5.6</td></tr><tr><td>1993</td><td>Williams</td><td>24</td><td>217.0</td><td>9.041666666666666</td></tr><tr><td>1993</td><td>McLaren</td><td>17</td><td>128.0</td><td>7.529411764705882</td></tr><tr><td>1993</td><td>Ferrari</td><td>14</td><td>77.0</td><td>5.5</td></tr><tr><td>1994</td><td>Williams</td><td>20</td><td>163.0</td><td>8.15</td></tr><tr><td>1994</td><td>Ferrari</td><td>17</td><td>127.0</td><td>7.470588235294118</td></tr><tr><td>1994</td><td>McLaren</td><td>13</td><td>91.0</td><td>7.0</td></tr><tr><td>1995</td><td>Williams</td><td>19</td><td>167.0</td><td>8.789473684210526</td></tr><tr><td>1995</td><td>Ferrari</td><td>18</td><td>137.0</td><td>7.611111111111111</td></tr><tr><td>1995</td><td>McLaren</td><td>17</td><td>85.0</td><td>5.0</td></tr><tr><td>1996</td><td>Williams</td><td>24</td><td>216.0</td><td>9.0</td></tr><tr><td>1996</td><td>Ferrari</td><td>16</td><td>117.0</td><td>7.3125</td></tr><tr><td>1996</td><td>McLaren</td><td>21</td><td>129.0</td><td>6.142857142857143</td></tr><tr><td>1997</td><td>Williams</td><td>23</td><td>177.0</td><td>7.695652173913044</td></tr><tr><td>1997</td><td>Ferrari</td><td>22</td><td>160.0</td><td>7.2727272727272725</td></tr><tr><td>1997</td><td>McLaren</td><td>19</td><td>117.0</td><td>6.157894736842105</td></tr><tr><td>1998</td><td>McLaren</td><td>25</td><td>212.0</td><td>8.48</td></tr><tr><td>1998</td><td>Ferrari</td><td>26</td><td>203.0</td><td>7.8076923076923075</td></tr><tr><td>1998</td><td>Williams</td><td>24</td><td>125.0</td><td>5.208333333333333</td></tr><tr><td>1999</td><td>McLaren</td><td>20</td><td>170.0</td><td>8.5</td></tr><tr><td>1999</td><td>Ferrari</td><td>27</td><td>203.0</td><td>7.518518518518518</td></tr><tr><td>1999</td><td>Williams</td><td>16</td><td>91.0</td><td>5.6875</td></tr><tr><td>2000</td><td>Ferrari</td><td>26</td><td>228.0</td><td>8.76923076923077</td></tr><tr><td>2000</td><td>McLaren</td><td>28</td><td>236.0</td><td>8.428571428571429</td></tr><tr><td>2000</td><td>Williams</td><td>18</td><td>102.0</td><td>5.666666666666667</td></tr><tr><td>2001</td><td>Ferrari</td><td>28</td><td>245.0</td><td>8.75</td></tr><tr><td>2001</td><td>Williams</td><td>16</td><td>123.0</td><td>7.6875</td></tr><tr><td>2001</td><td>McLaren</td><td>23</td><td>173.0</td><td>7.521739130434782</td></tr><tr><td>2002</td><td>Ferrari</td><td>29</td><td>267.0</td><td>9.206896551724139</td></tr><tr><td>2002</td><td>Williams</td><td>24</td><td>178.0</td><td>7.416666666666667</td></tr><tr><td>2002</td><td>McLaren</td><td>19</td><td>132.0</td><td>6.947368421052632</td></tr><tr><td>2003</td><td>McLaren</td><td>23</td><td>176.0</td><td>7.6521739130434785</td></tr><tr><td>2003</td><td>Ferrari</td><td>26</td><td>193.0</td><td>7.423076923076923</td></tr><tr><td>2003</td><td>Williams</td><td>25</td><td>180.0</td><td>7.2</td></tr><tr><td>2004</td><td>Ferrari</td><td>32</td><td>287.0</td><td>8.96875</td></tr><tr><td>2004</td><td>Williams</td><td>24</td><td>130.0</td><td>5.416666666666667</td></tr><tr><td>2004</td><td>McLaren</td><td>21</td><td>106.0</td><td>5.0476190476190474</td></tr><tr><td>2005</td><td>McLaren</td><td>27</td><td>212.0</td><td>7.851851851851852</td></tr><tr><td>2005</td><td>Williams</td><td>17</td><td>97.0</td><td>5.705882352941177</td></tr><tr><td>2005</td><td>Ferrari</td><td>27</td><td>143.0</td><td>5.296296296296297</td></tr><tr><td>2005</td><td>Red Bull</td><td>22</td><td>77.0</td><td>3.5</td></tr><tr><td>2006</td><td>Ferrari</td><td>32</td><td>240.0</td><td>7.5</td></tr><tr><td>2006</td><td>McLaren</td><td>22</td><td>150.0</td><td>6.818181818181818</td></tr><tr><td>2006</td><td>Red Bull</td><td>10</td><td>35.0</td><td>3.5</td></tr><tr><td>2006</td><td>Williams</td><td>11</td><td>30.0</td><td>2.727272727272727</td></tr><tr><td>2007</td><td>Ferrari</td><td>29</td><td>238.0</td><td>8.206896551724139</td></tr><tr><td>2007</td><td>McLaren</td><td>32</td><td>257.0</td><td>8.03125</td></tr><tr><td>2007</td><td>Williams</td><td>16</td><td>61.0</td><td>3.8125</td></tr><tr><td>2007</td><td>Red Bull</td><td>14</td><td>49.0</td><td>3.5</td></tr><tr><td>2008</td><td>Ferrari</td><td>27</td><td>206.0</td><td>7.62962962962963</td></tr><tr><td>2008</td><td>McLaren</td><td>29</td><td>191.0</td><td>6.586206896551724</td></tr><tr><td>2008</td><td>Williams</td><td>13</td><td>49.0</td><td>3.769230769230769</td></tr><tr><td>2008</td><td>Red Bull</td><td>18</td><td>63.0</td><td>3.5</td></tr><tr><td>2009</td><td>Red Bull</td><td>24</td><td>185.0</td><td>7.708333333333333</td></tr><tr><td>2009</td><td>McLaren</td><td>17</td><td>101.0</td><td>5.9411764705882355</td></tr><tr><td>2009</td><td>Ferrari</td><td>19</td><td>103.0</td><td>5.421052631578948</td></tr><tr><td>2009</td><td>Williams</td><td>16</td><td>66.0</td><td>4.125</td></tr><tr><td>2010</td><td>Red Bull</td><td>32</td><td>241.0</td><td>7.53125</td></tr><tr><td>2010</td><td>McLaren</td><td>31</td><td>231.0</td><td>7.451612903225806</td></tr><tr><td>2010</td><td>Ferrari</td><td>30</td><td>203.0</td><td>6.766666666666667</td></tr><tr><td>2010</td><td>Mercedes</td><td>27</td><td>131.0</td><td>4.851851851851852</td></tr><tr><td>2010</td><td>Williams</td><td>17</td><td>48.0</td><td>2.823529411764706</td></tr><tr><td>2011</td><td>Red Bull</td><td>36</td><td>308.0</td><td>8.555555555555555</td></tr><tr><td>2011</td><td>McLaren</td><td>33</td><td>251.0</td><td>7.606060606060606</td></tr><tr><td>2011</td><td>Ferrari</td><td>33</td><td>210.0</td><td>6.363636363636363</td></tr><tr><td>2011</td><td>Mercedes</td><td>25</td><td>107.0</td><td>4.28</td></tr><tr><td>2011</td><td>Williams</td><td>3</td><td>5.0</td><td>1.6666666666666667</td></tr><tr><td>2012</td><td>Red Bull</td><td>32</td><td>232.0</td><td>7.25</td></tr><tr><td>2012</td><td>McLaren</td><td>28</td><td>187.0</td><td>6.678571428571429</td></tr><tr><td>2012</td><td>Ferrari</td><td>32</td><td>212.0</td><td>6.625</td></tr><tr><td>2012</td><td>Mercedes</td><td>18</td><td>82.0</td><td>4.555555555555555</td></tr><tr><td>2012</td><td>Williams</td><td>15</td><td>47.0</td><td>3.1333333333333333</td></tr><tr><td>2013</td><td>Red Bull</td><td>33</td><td>277.0</td><td>8.393939393939394</td></tr><tr><td>2013</td><td>Ferrari</td><td>32</td><td>195.0</td><td>6.09375</td></tr><tr><td>2013</td><td>Mercedes</td><td>33</td><td>199.0</td><td>6.03030303030303</td></tr><tr><td>2013</td><td>McLaren</td><td>25</td><td>84.0</td><td>3.36</td></tr><tr><td>2013</td><td>Williams</td><td>2</td><td>4.0</td><td>2.0</td></tr><tr><td>2014</td><td>Mercedes</td><td>32</td><td>300.0</td><td>9.375</td></tr><tr><td>2014</td><td>Red Bull</td><td>32</td><td>211.0</td><td>6.59375</td></tr><tr><td>2014</td><td>Williams</td><td>28</td><td>165.0</td><td>5.892857142857143</td></tr><tr><td>2014</td><td>Ferrari</td><td>30</td><td>133.0</td><td>4.433333333333334</td></tr><tr><td>2014</td><td>McLaren</td><td>25</td><td>107.0</td><td>4.28</td></tr><tr><td>2015</td><td>Mercedes</td><td>35</td><td>316.0</td><td>9.028571428571428</td></tr><tr><td>2015</td><td>Ferrari</td><td>31</td><td>226.0</td><td>7.290322580645161</td></tr><tr><td>2015</td><td>Williams</td><td>26</td><td>152.0</td><td>5.846153846153846</td></tr><tr><td>2015</td><td>Red Bull</td><td>27</td><td>115.0</td><td>4.2592592592592595</td></tr><tr><td>2015</td><td>McLaren</td><td>6</td><td>19.0</td><td>3.1666666666666665</td></tr><tr><td>2016</td><td>Mercedes</td><td>39</td><td>344.0</td><td>8.820512820512821</td></tr><tr><td>2016</td><td>Red Bull</td><td>36</td><td>252.0</td><td>7.0</td></tr><tr><td>2016</td><td>Ferrari</td><td>34</td><td>225.0</td><td>6.617647058823529</td></tr><tr><td>2016</td><td>Williams</td><td>28</td><td>94.0</td><td>3.357142857142857</td></tr><tr><td>2016</td><td>McLaren</td><td>17</td><td>53.0</td><td>3.1176470588235294</td></tr><tr><td>2017</td><td>Mercedes</td><td>39</td><td>319.0</td><td>8.179487179487179</td></tr><tr><td>2017</td><td>Ferrari</td><td>34</td><td>266.0</td><td>7.823529411764706</td></tr><tr><td>2017</td><td>Red Bull</td><td>27</td><td>194.0</td><td>7.185185185185185</td></tr><tr><td>2017</td><td>Williams</td><td>20</td><td>59.0</td><td>2.95</td></tr><tr><td>2017</td><td>McLaren</td><td>8</td><td>22.0</td><td>2.75</td></tr><tr><td>2018</td><td>Mercedes</td><td>39</td><td>316.0</td><td>8.102564102564102</td></tr><tr><td>2018</td><td>Ferrari</td><td>37</td><td>289.0</td><td>7.8108108108108105</td></tr><tr><td>2018</td><td>Red Bull</td><td>30</td><td>219.0</td><td>7.3</td></tr><tr><td>2018</td><td>McLaren</td><td>13</td><td>44.0</td><td>3.3846153846153846</td></tr><tr><td>2018</td><td>Williams</td><td>2</td><td>4.0</td><td>2.0</td></tr><tr><td>2019</td><td>Mercedes</td><td>40</td><td>339.0</td><td>8.475</td></tr><tr><td>2019</td><td>Ferrari</td><td>34</td><td>261.0</td><td>7.676470588235294</td></tr><tr><td>2019</td><td>Red Bull</td><td>36</td><td>227.0</td><td>6.305555555555555</td></tr><tr><td>2019</td><td>McLaren</td><td>24</td><td>95.0</td><td>3.9583333333333335</td></tr><tr><td>2019</td><td>Williams</td><td>1</td><td>1.0</td><td>1.0</td></tr><tr><td>2020</td><td>Mercedes</td><td>31</td><td>258.0</td><td>8.32258064516129</td></tr><tr><td>2020</td><td>Red Bull</td><td>24</td><td>166.0</td><td>6.916666666666667</td></tr><tr><td>2020</td><td>McLaren</td><td>25</td><td>122.0</td><td>4.88</td></tr><tr><td>2020</td><td>Ferrari</td><td>17</td><td>78.0</td><td>4.588235294117647</td></tr></tbody></table></div>"
      ]
     },
     "metadata": {
      "application/vnd.databricks.v1+output": {
       "addedWidgets": {},
       "aggData": [],
       "aggError": "",
       "aggOverflow": false,
       "aggSchema": [],
       "aggSeriesLimitReached": false,
       "aggType": "",
       "arguments": {},
       "columnCustomDisplayInfos": {},
       "data": [
        [
         1950,
         "Ferrari",
         8,
         57.0,
         7.125
        ],
        [
         1951,
         "Ferrari",
         22,
         168.0,
         7.636363636363637
        ],
        [
         1952,
         "Ferrari",
         28,
         202.0,
         7.214285714285714
        ],
        [
         1953,
         "Ferrari",
         35,
         230.0,
         6.571428571428571
        ],
        [
         1954,
         "Mercedes",
         12,
         96.0,
         8.0
        ],
        [
         1954,
         "Ferrari",
         25,
         175.0,
         7.0
        ],
        [
         1955,
         "Mercedes",
         15,
         124.0,
         8.266666666666667
        ],
        [
         1955,
         "Ferrari",
         21,
         131.0,
         6.238095238095238
        ],
        [
         1956,
         "Ferrari",
         23,
         172.0,
         7.478260869565218
        ],
        [
         1957,
         "Ferrari",
         20,
         130.0,
         6.5
        ],
        [
         1958,
         "Ferrari",
         21,
         159.0,
         7.571428571428571
        ],
        [
         1959,
         "Ferrari",
         19,
         132.0,
         6.947368421052632
        ],
        [
         1960,
         "Ferrari",
         17,
         102.0,
         6.0
        ],
        [
         1961,
         "Ferrari",
         19,
         152.0,
         8.0
        ],
        [
         1962,
         "Ferrari",
         12,
         73.0,
         6.083333333333333
        ],
        [
         1963,
         "Ferrari",
         8,
         53.0,
         6.625
        ],
        [
         1964,
         "Ferrari",
         15,
         105.0,
         7.0
        ],
        [
         1965,
         "Ferrari",
         16,
         86.0,
         5.375
        ],
        [
         1966,
         "Ferrari",
         8,
         65.0,
         8.125
        ],
        [
         1967,
         "Ferrari",
         11,
         64.0,
         5.818181818181818
        ],
        [
         1968,
         "Ferrari",
         10,
         70.0,
         7.0
        ],
        [
         1969,
         "Ferrari",
         4,
         23.0,
         5.75
        ],
        [
         1970,
         "Ferrari",
         15,
         119.0,
         7.933333333333334
        ],
        [
         1971,
         "Ferrari",
         11,
         79.0,
         7.181818181818182
        ],
        [
         1971,
         "McLaren",
         11,
         46.0,
         4.181818181818182
        ],
        [
         1972,
         "McLaren",
         20,
         136.0,
         6.8
        ],
        [
         1972,
         "Ferrari",
         15,
         99.0,
         6.6
        ],
        [
         1973,
         "McLaren",
         24,
         147.0,
         6.125
        ],
        [
         1973,
         "Ferrari",
         11,
         54.0,
         4.909090909090909
        ],
        [
         1974,
         "Ferrari",
         17,
         142.0,
         8.352941176470589
        ],
        [
         1974,
         "McLaren",
         31,
         187.0,
         6.032258064516129
        ],
        [
         1975,
         "Ferrari",
         20,
         150.0,
         7.5
        ],
        [
         1975,
         "McLaren",
         18,
         127.0,
         7.055555555555555
        ],
        [
         1975,
         "Williams",
         2,
         13.0,
         6.5
        ],
        [
         1976,
         "McLaren",
         20,
         147.0,
         7.35
        ],
        [
         1976,
         "Ferrari",
         22,
         159.0,
         7.2272727272727275
        ],
        [
         1976,
         "Williams",
         1,
         2.0,
         2.0
        ],
        [
         1977,
         "Ferrari",
         24,
         189.0,
         7.875
        ],
        [
         1977,
         "McLaren",
         20,
         124.0,
         6.2
        ],
        [
         1978,
         "Ferrari",
         20,
         119.0,
         5.95
        ],
        [
         1978,
         "Williams",
         7,
         32.0,
         4.571428571428571
        ],
        [
         1978,
         "McLaren",
         21,
         86.0,
         4.095238095238095
        ],
        [
         1979,
         "Ferrari",
         24,
         183.0,
         7.625
        ],
        [
         1979,
         "Williams",
         17,
         117.0,
         6.882352941176471
        ],
        [
         1979,
         "McLaren",
         13,
         55.0,
         4.230769230769231
        ],
        [
         1980,
         "Williams",
         22,
         182.0,
         8.272727272727273
        ],
        [
         1980,
         "McLaren",
         10,
         50.0,
         5.0
        ],
        [
         1980,
         "Ferrari",
         12,
         47.0,
         3.9166666666666665
        ],
        [
         1981,
         "Williams",
         21,
         154.0,
         7.333333333333333
        ],
        [
         1981,
         "Ferrari",
         13,
         72.0,
         5.538461538461538
        ],
        [
         1981,
         "McLaren",
         13,
         70.0,
         5.384615384615385
        ],
        [
         1982,
         "Ferrari",
         16,
         122.0,
         7.625
        ],
        [
         1982,
         "McLaren",
         17,
         118.0,
         6.9411764705882355
        ],
        [
         1982,
         "Williams",
         20,
         128.0,
         6.4
        ],
        [
         1983,
         "Ferrari",
         20,
         148.0,
         7.4
        ],
        [
         1983,
         "McLaren",
         12,
         74.0,
         6.166666666666667
        ],
        [
         1983,
         "Williams",
         16,
         94.0,
         5.875
        ],
        [
         1984,
         "McLaren",
         21,
         191.0,
         9.095238095238095
        ],
        [
         1984,
         "Ferrari",
         18,
         123.0,
         6.833333333333333
        ],
        [
         1984,
         "Williams",
         10,
         60.0,
         6.0
        ],
        [
         1985,
         "McLaren",
         16,
         134.0,
         8.375
        ],
        [
         1985,
         "Ferrari",
         20,
         147.0,
         7.35
        ],
        [
         1985,
         "Williams",
         17,
         123.0,
         7.235294117647059
        ],
        [
         1986,
         "Williams",
         24,
         205.0,
         8.541666666666666
        ],
        [
         1986,
         "McLaren",
         21,
         161.0,
         7.666666666666667
        ],
        [
         1986,
         "Ferrari",
         15,
         88.0,
         5.866666666666666
        ],
        [
         1987,
         "Williams",
         22,
         189.0,
         8.590909090909092
        ],
        [
         1987,
         "Ferrari",
         12,
         92.0,
         7.666666666666667
        ],
        [
         1987,
         "McLaren",
         22,
         149.0,
         6.7727272727272725
        ],
        [
         1988,
         "McLaren",
         28,
         253.0,
         9.035714285714286
        ],
        [
         1988,
         "Ferrari",
         18,
         129.0,
         7.166666666666667
        ],
        [
         1988,
         "Williams",
         10,
         57.0,
         5.7
        ],
        [
         1989,
         "Ferrari",
         9,
         82.0,
         9.11111111111111
        ],
        [
         1989,
         "McLaren",
         21,
         188.0,
         8.952380952380953
        ],
        [
         1989,
         "Williams",
         19,
         137.0,
         7.2105263157894735
        ],
        [
         1990,
         "Ferrari",
         19,
         163.0,
         8.578947368421053
        ],
        [
         1990,
         "McLaren",
         22,
         187.0,
         8.5
        ],
        [
         1990,
         "Williams",
         21,
         130.0,
         6.190476190476191
        ],
        [
         1991,
         "Williams",
         21,
         179.0,
         8.523809523809524
        ],
        [
         1991,
         "McLaren",
         24,
         204.0,
         8.5
        ],
        [
         1991,
         "Ferrari",
         16,
         117.0,
         7.3125
        ],
        [
         1992,
         "Williams",
         23,
         206.0,
         8.956521739130435
        ],
        [
         1992,
         "McLaren",
         19,
         150.0,
         7.894736842105263
        ],
        [
         1992,
         "Ferrari",
         10,
         56.0,
         5.6
        ],
        [
         1993,
         "Williams",
         24,
         217.0,
         9.041666666666666
        ],
        [
         1993,
         "McLaren",
         17,
         128.0,
         7.529411764705882
        ],
        [
         1993,
         "Ferrari",
         14,
         77.0,
         5.5
        ],
        [
         1994,
         "Williams",
         20,
         163.0,
         8.15
        ],
        [
         1994,
         "Ferrari",
         17,
         127.0,
         7.470588235294118
        ],
        [
         1994,
         "McLaren",
         13,
         91.0,
         7.0
        ],
        [
         1995,
         "Williams",
         19,
         167.0,
         8.789473684210526
        ],
        [
         1995,
         "Ferrari",
         18,
         137.0,
         7.611111111111111
        ],
        [
         1995,
         "McLaren",
         17,
         85.0,
         5.0
        ],
        [
         1996,
         "Williams",
         24,
         216.0,
         9.0
        ],
        [
         1996,
         "Ferrari",
         16,
         117.0,
         7.3125
        ],
        [
         1996,
         "McLaren",
         21,
         129.0,
         6.142857142857143
        ],
        [
         1997,
         "Williams",
         23,
         177.0,
         7.695652173913044
        ],
        [
         1997,
         "Ferrari",
         22,
         160.0,
         7.2727272727272725
        ],
        [
         1997,
         "McLaren",
         19,
         117.0,
         6.157894736842105
        ],
        [
         1998,
         "McLaren",
         25,
         212.0,
         8.48
        ],
        [
         1998,
         "Ferrari",
         26,
         203.0,
         7.8076923076923075
        ],
        [
         1998,
         "Williams",
         24,
         125.0,
         5.208333333333333
        ],
        [
         1999,
         "McLaren",
         20,
         170.0,
         8.5
        ],
        [
         1999,
         "Ferrari",
         27,
         203.0,
         7.518518518518518
        ],
        [
         1999,
         "Williams",
         16,
         91.0,
         5.6875
        ],
        [
         2000,
         "Ferrari",
         26,
         228.0,
         8.76923076923077
        ],
        [
         2000,
         "McLaren",
         28,
         236.0,
         8.428571428571429
        ],
        [
         2000,
         "Williams",
         18,
         102.0,
         5.666666666666667
        ],
        [
         2001,
         "Ferrari",
         28,
         245.0,
         8.75
        ],
        [
         2001,
         "Williams",
         16,
         123.0,
         7.6875
        ],
        [
         2001,
         "McLaren",
         23,
         173.0,
         7.521739130434782
        ],
        [
         2002,
         "Ferrari",
         29,
         267.0,
         9.206896551724139
        ],
        [
         2002,
         "Williams",
         24,
         178.0,
         7.416666666666667
        ],
        [
         2002,
         "McLaren",
         19,
         132.0,
         6.947368421052632
        ],
        [
         2003,
         "McLaren",
         23,
         176.0,
         7.6521739130434785
        ],
        [
         2003,
         "Ferrari",
         26,
         193.0,
         7.423076923076923
        ],
        [
         2003,
         "Williams",
         25,
         180.0,
         7.2
        ],
        [
         2004,
         "Ferrari",
         32,
         287.0,
         8.96875
        ],
        [
         2004,
         "Williams",
         24,
         130.0,
         5.416666666666667
        ],
        [
         2004,
         "McLaren",
         21,
         106.0,
         5.0476190476190474
        ],
        [
         2005,
         "McLaren",
         27,
         212.0,
         7.851851851851852
        ],
        [
         2005,
         "Williams",
         17,
         97.0,
         5.705882352941177
        ],
        [
         2005,
         "Ferrari",
         27,
         143.0,
         5.296296296296297
        ],
        [
         2005,
         "Red Bull",
         22,
         77.0,
         3.5
        ],
        [
         2006,
         "Ferrari",
         32,
         240.0,
         7.5
        ],
        [
         2006,
         "McLaren",
         22,
         150.0,
         6.818181818181818
        ],
        [
         2006,
         "Red Bull",
         10,
         35.0,
         3.5
        ],
        [
         2006,
         "Williams",
         11,
         30.0,
         2.727272727272727
        ],
        [
         2007,
         "Ferrari",
         29,
         238.0,
         8.206896551724139
        ],
        [
         2007,
         "McLaren",
         32,
         257.0,
         8.03125
        ],
        [
         2007,
         "Williams",
         16,
         61.0,
         3.8125
        ],
        [
         2007,
         "Red Bull",
         14,
         49.0,
         3.5
        ],
        [
         2008,
         "Ferrari",
         27,
         206.0,
         7.62962962962963
        ],
        [
         2008,
         "McLaren",
         29,
         191.0,
         6.586206896551724
        ],
        [
         2008,
         "Williams",
         13,
         49.0,
         3.769230769230769
        ],
        [
         2008,
         "Red Bull",
         18,
         63.0,
         3.5
        ],
        [
         2009,
         "Red Bull",
         24,
         185.0,
         7.708333333333333
        ],
        [
         2009,
         "McLaren",
         17,
         101.0,
         5.9411764705882355
        ],
        [
         2009,
         "Ferrari",
         19,
         103.0,
         5.421052631578948
        ],
        [
         2009,
         "Williams",
         16,
         66.0,
         4.125
        ],
        [
         2010,
         "Red Bull",
         32,
         241.0,
         7.53125
        ],
        [
         2010,
         "McLaren",
         31,
         231.0,
         7.451612903225806
        ],
        [
         2010,
         "Ferrari",
         30,
         203.0,
         6.766666666666667
        ],
        [
         2010,
         "Mercedes",
         27,
         131.0,
         4.851851851851852
        ],
        [
         2010,
         "Williams",
         17,
         48.0,
         2.823529411764706
        ],
        [
         2011,
         "Red Bull",
         36,
         308.0,
         8.555555555555555
        ],
        [
         2011,
         "McLaren",
         33,
         251.0,
         7.606060606060606
        ],
        [
         2011,
         "Ferrari",
         33,
         210.0,
         6.363636363636363
        ],
        [
         2011,
         "Mercedes",
         25,
         107.0,
         4.28
        ],
        [
         2011,
         "Williams",
         3,
         5.0,
         1.6666666666666667
        ],
        [
         2012,
         "Red Bull",
         32,
         232.0,
         7.25
        ],
        [
         2012,
         "McLaren",
         28,
         187.0,
         6.678571428571429
        ],
        [
         2012,
         "Ferrari",
         32,
         212.0,
         6.625
        ],
        [
         2012,
         "Mercedes",
         18,
         82.0,
         4.555555555555555
        ],
        [
         2012,
         "Williams",
         15,
         47.0,
         3.1333333333333333
        ],
        [
         2013,
         "Red Bull",
         33,
         277.0,
         8.393939393939394
        ],
        [
         2013,
         "Ferrari",
         32,
         195.0,
         6.09375
        ],
        [
         2013,
         "Mercedes",
         33,
         199.0,
         6.03030303030303
        ],
        [
         2013,
         "McLaren",
         25,
         84.0,
         3.36
        ],
        [
         2013,
         "Williams",
         2,
         4.0,
         2.0
        ],
        [
         2014,
         "Mercedes",
         32,
         300.0,
         9.375
        ],
        [
         2014,
         "Red Bull",
         32,
         211.0,
         6.59375
        ],
        [
         2014,
         "Williams",
         28,
         165.0,
         5.892857142857143
        ],
        [
         2014,
         "Ferrari",
         30,
         133.0,
         4.433333333333334
        ],
        [
         2014,
         "McLaren",
         25,
         107.0,
         4.28
        ],
        [
         2015,
         "Mercedes",
         35,
         316.0,
         9.028571428571428
        ],
        [
         2015,
         "Ferrari",
         31,
         226.0,
         7.290322580645161
        ],
        [
         2015,
         "Williams",
         26,
         152.0,
         5.846153846153846
        ],
        [
         2015,
         "Red Bull",
         27,
         115.0,
         4.2592592592592595
        ],
        [
         2015,
         "McLaren",
         6,
         19.0,
         3.1666666666666665
        ],
        [
         2016,
         "Mercedes",
         39,
         344.0,
         8.820512820512821
        ],
        [
         2016,
         "Red Bull",
         36,
         252.0,
         7.0
        ],
        [
         2016,
         "Ferrari",
         34,
         225.0,
         6.617647058823529
        ],
        [
         2016,
         "Williams",
         28,
         94.0,
         3.357142857142857
        ],
        [
         2016,
         "McLaren",
         17,
         53.0,
         3.1176470588235294
        ],
        [
         2017,
         "Mercedes",
         39,
         319.0,
         8.179487179487179
        ],
        [
         2017,
         "Ferrari",
         34,
         266.0,
         7.823529411764706
        ],
        [
         2017,
         "Red Bull",
         27,
         194.0,
         7.185185185185185
        ],
        [
         2017,
         "Williams",
         20,
         59.0,
         2.95
        ],
        [
         2017,
         "McLaren",
         8,
         22.0,
         2.75
        ],
        [
         2018,
         "Mercedes",
         39,
         316.0,
         8.102564102564102
        ],
        [
         2018,
         "Ferrari",
         37,
         289.0,
         7.8108108108108105
        ],
        [
         2018,
         "Red Bull",
         30,
         219.0,
         7.3
        ],
        [
         2018,
         "McLaren",
         13,
         44.0,
         3.3846153846153846
        ],
        [
         2018,
         "Williams",
         2,
         4.0,
         2.0
        ],
        [
         2019,
         "Mercedes",
         40,
         339.0,
         8.475
        ],
        [
         2019,
         "Ferrari",
         34,
         261.0,
         7.676470588235294
        ],
        [
         2019,
         "Red Bull",
         36,
         227.0,
         6.305555555555555
        ],
        [
         2019,
         "McLaren",
         24,
         95.0,
         3.9583333333333335
        ],
        [
         2019,
         "Williams",
         1,
         1.0,
         1.0
        ],
        [
         2020,
         "Mercedes",
         31,
         258.0,
         8.32258064516129
        ],
        [
         2020,
         "Red Bull",
         24,
         166.0,
         6.916666666666667
        ],
        [
         2020,
         "McLaren",
         25,
         122.0,
         4.88
        ],
        [
         2020,
         "Ferrari",
         17,
         78.0,
         4.588235294117647
        ]
       ],
       "datasetInfos": [],
       "dbfsResultPath": null,
       "isJsonSchema": true,
       "metadata": {
        "isDbfsCommandResult": false
       },
       "overflow": false,
       "plotOptions": {
        "customPlotOptions": {},
        "displayType": "table",
        "pivotAggregation": null,
        "pivotColumns": null,
        "xColumns": null,
        "yColumns": null
       },
       "removedWidgets": [],
       "schema": [
        {
         "metadata": "{}",
         "name": "race_year",
         "type": "\"integer\""
        },
        {
         "metadata": "{}",
         "name": "team_name",
         "type": "\"string\""
        },
        {
         "metadata": "{}",
         "name": "total_races",
         "type": "\"long\""
        },
        {
         "metadata": "{}",
         "name": "total_points",
         "type": "\"double\""
        },
        {
         "metadata": "{}",
         "name": "average_points",
         "type": "\"double\""
        }
       ],
       "type": "table"
      }
     },
     "output_type": "display_data"
    },
    {
     "output_type": "display_data",
     "data": {
      "text/plain": [
       "Databricks visualization. Run in Databricks to view."
      ]
     },
     "metadata": {
      "application/vnd.databricks.v1.subcommand+json": {
       "baseErrorDetails": null,
       "bindings": {},
       "collapsed": false,
       "command": "%sql WITH q AS (SELECT race_year, driver_name,\n    count(1) as total_races,\n    SUM(calculated_points) as total_points,\n    avg(calculated_points) as average_points\nFROM f1_presentation.calculate_race_results\nWHERE driver_name IN (\n    SELECT driver_name \n    FROM d_dominant_drivers \n    WHERE driver_rank <= 10\n)\nGROUP BY race_year, driver_name\nORDER BY race_year, average_points DESC) SELECT `driver_name`,`driver_name`,SUM(`race_year`) `column_118b03ea99` FROM q GROUP BY `driver_name`",
       "commandTitle": "LineChart",
       "commandType": "auto",
       "commandVersion": 0,
       "commentThread": [],
       "commentsVisible": false,
       "contentSha256Hex": null,
       "customPlotOptions": {
        "redashChart": [
         {
          "key": "type",
          "value": "CHART"
         },
         {
          "key": "options",
          "value": {
           "alignYAxesAtZero": true,
           "coefficient": 1,
           "columnConfigurationMap": {
            "series": {
             "column": "team_name",
             "id": "column_d35edb92150"
            },
            "x": {
             "column": "race_year",
             "id": "column_d35edb92146"
            },
            "y": [
             {
              "column": "average_points",
              "id": "column_d35edb92148",
              "transform": "SUM"
             }
            ]
           },
           "dateTimeFormat": "DD/MM/YYYY HH:mm",
           "direction": {
            "type": "clockwise"
           },
           "error_y": {
            "type": "data",
            "visible": true
           },
           "globalSeriesType": "line",
           "isAggregationOn": true,
           "legend": {
            "traceorder": "normal"
           },
           "missingValuesAsZero": true,
           "numberFormat": "0,0.[00000]",
           "percentFormat": "0[.]00%",
           "series": {
            "error_y": {
             "type": "data",
             "visible": true
            },
            "stacking": null
           },
           "seriesOptions": {
            "column_d35edb92148": {
             "type": "line",
             "yAxis": 0
            }
           },
           "showDataLabels": false,
           "sizemode": "diameter",
           "sortX": true,
           "sortY": true,
           "swappedAxes": false,
           "textFormat": "",
           "useAggregationsUi": true,
           "valuesOptions": {},
           "version": 2,
           "xAxis": {
            "labels": {
             "enabled": true
            },
            "type": "-"
           },
           "yAxis": [
            {
             "type": "-"
            },
            {
             "opposite": true,
             "type": "-"
            }
           ]
          }
         }
        ]
       },
       "datasetPreviewNameToCmdIdMap": {},
       "diffDeletes": [],
       "diffInserts": [],
       "displayType": "redashChart",
       "error": null,
       "errorDetails": null,
       "errorSummary": null,
       "errorTraceType": null,
       "finishTime": 0,
       "globalVars": {},
       "guid": "",
       "height": "auto",
       "hideCommandCode": false,
       "hideCommandResult": false,
       "iPythonMetadata": null,
       "inputWidgets": {},
       "isLockedInExamMode": false,
       "latestUser": "a user",
       "latestUserId": null,
       "listResultMetadata": null,
       "metadata": {},
       "nuid": "d9f40672-46c6-41d8-8473-37b48f4da4ea",
       "origId": 0,
       "parentHierarchy": [],
       "pivotAggregation": null,
       "pivotColumns": null,
       "position": 3.0,
       "resultDbfsErrorMessage": null,
       "resultDbfsStatus": "INLINED_IN_TREE",
       "results": null,
       "showCommandTitle": false,
       "startTime": 0,
       "state": "input",
       "streamStates": {},
       "subcommandOptions": {
        "queryPlan": {
         "groups": [
          {
           "column": "race_year",
           "type": "column"
          },
          {
           "column": "team_name",
           "type": "column"
          }
         ],
         "selects": [
          {
           "column": "race_year",
           "type": "column"
          },
          {
           "alias": "column_d35edb92148",
           "args": [
            {
             "column": "average_points",
             "type": "column"
            }
           ],
           "function": "SUM",
           "type": "function"
          },
          {
           "column": "team_name",
           "type": "column"
          }
         ]
        }
       },
       "submitTime": 0,
       "subtype": "tableResultSubCmd.visualization",
       "tableResultIndex": 0,
       "tableResultSettingsMap": {},
       "useConsistentColors": false,
       "version": "CommandV1",
       "width": "auto",
       "workflows": [],
       "xColumns": null,
       "yColumns": null
      }
     },
     "output_type": "display_data"
    }
   ],
   "source": [
    "SELECT race_year, team_name,\n",
    "    count(1) as total_races,\n",
    "    SUM(calculated_points) as total_points,\n",
    "    avg(calculated_points) as average_points\n",
    "FROM f1_presentation.calculate_race_results\n",
    "WHERE team_name IN (\n",
    "    SELECT team_name \n",
    "    FROM d_dominant_teams \n",
    "    WHERE team <= 5\n",
    ")\n",
    "GROUP BY race_year, team_name\n",
    "ORDER BY race_year, average_points DESC;"
   ]
  },
  {
   "cell_type": "code",
   "execution_count": 0,
   "metadata": {
    "application/vnd.databricks.v1+cell": {
     "cellMetadata": {
      "byteLimit": 2048000,
      "rowLimit": 10000
     },
     "inputWidgets": {},
     "nuid": "1dfd3c82-cd3e-4263-9ce3-f82b206cd2b1",
     "showTitle": false,
     "tableResultSettingsMap": {},
     "title": ""
    }
   },
   "outputs": [
    {
     "output_type": "display_data",
     "data": {
      "text/html": [
       "<style scoped>\n",
       "  .table-result-container {\n",
       "    max-height: 300px;\n",
       "    overflow: auto;\n",
       "  }\n",
       "  table, th, td {\n",
       "    border: 1px solid black;\n",
       "    border-collapse: collapse;\n",
       "  }\n",
       "  th, td {\n",
       "    padding: 5px;\n",
       "  }\n",
       "  th {\n",
       "    text-align: left;\n",
       "  }\n",
       "</style><div class='table-result-container'><table class='table-result'><thead style='background-color: white'><tr><th>race_year</th><th>team_name</th><th>total_races</th><th>total_points</th><th>average_points</th></tr></thead><tbody><tr><td>1950</td><td>Ferrari</td><td>8</td><td>57.0</td><td>7.125</td></tr><tr><td>1951</td><td>Ferrari</td><td>22</td><td>168.0</td><td>7.636363636363637</td></tr><tr><td>1952</td><td>Ferrari</td><td>28</td><td>202.0</td><td>7.214285714285714</td></tr><tr><td>1953</td><td>Ferrari</td><td>35</td><td>230.0</td><td>6.571428571428571</td></tr><tr><td>1954</td><td>Mercedes</td><td>12</td><td>96.0</td><td>8.0</td></tr><tr><td>1954</td><td>Ferrari</td><td>25</td><td>175.0</td><td>7.0</td></tr><tr><td>1955</td><td>Mercedes</td><td>15</td><td>124.0</td><td>8.266666666666667</td></tr><tr><td>1955</td><td>Ferrari</td><td>21</td><td>131.0</td><td>6.238095238095238</td></tr><tr><td>1956</td><td>Ferrari</td><td>23</td><td>172.0</td><td>7.478260869565218</td></tr><tr><td>1957</td><td>Ferrari</td><td>20</td><td>130.0</td><td>6.5</td></tr><tr><td>1958</td><td>Ferrari</td><td>21</td><td>159.0</td><td>7.571428571428571</td></tr><tr><td>1959</td><td>Ferrari</td><td>19</td><td>132.0</td><td>6.947368421052632</td></tr><tr><td>1960</td><td>Ferrari</td><td>17</td><td>102.0</td><td>6.0</td></tr><tr><td>1961</td><td>Ferrari</td><td>19</td><td>152.0</td><td>8.0</td></tr><tr><td>1962</td><td>Ferrari</td><td>12</td><td>73.0</td><td>6.083333333333333</td></tr><tr><td>1963</td><td>Ferrari</td><td>8</td><td>53.0</td><td>6.625</td></tr><tr><td>1964</td><td>Ferrari</td><td>15</td><td>105.0</td><td>7.0</td></tr><tr><td>1965</td><td>Ferrari</td><td>16</td><td>86.0</td><td>5.375</td></tr><tr><td>1966</td><td>Ferrari</td><td>8</td><td>65.0</td><td>8.125</td></tr><tr><td>1967</td><td>Ferrari</td><td>11</td><td>64.0</td><td>5.818181818181818</td></tr><tr><td>1968</td><td>Ferrari</td><td>10</td><td>70.0</td><td>7.0</td></tr><tr><td>1969</td><td>Ferrari</td><td>4</td><td>23.0</td><td>5.75</td></tr><tr><td>1970</td><td>Ferrari</td><td>15</td><td>119.0</td><td>7.933333333333334</td></tr><tr><td>1971</td><td>Ferrari</td><td>11</td><td>79.0</td><td>7.181818181818182</td></tr><tr><td>1971</td><td>McLaren</td><td>11</td><td>46.0</td><td>4.181818181818182</td></tr><tr><td>1972</td><td>McLaren</td><td>20</td><td>136.0</td><td>6.8</td></tr><tr><td>1972</td><td>Ferrari</td><td>15</td><td>99.0</td><td>6.6</td></tr><tr><td>1973</td><td>McLaren</td><td>24</td><td>147.0</td><td>6.125</td></tr><tr><td>1973</td><td>Ferrari</td><td>11</td><td>54.0</td><td>4.909090909090909</td></tr><tr><td>1974</td><td>Ferrari</td><td>17</td><td>142.0</td><td>8.352941176470589</td></tr><tr><td>1974</td><td>McLaren</td><td>31</td><td>187.0</td><td>6.032258064516129</td></tr><tr><td>1975</td><td>Ferrari</td><td>20</td><td>150.0</td><td>7.5</td></tr><tr><td>1975</td><td>McLaren</td><td>18</td><td>127.0</td><td>7.055555555555555</td></tr><tr><td>1975</td><td>Williams</td><td>2</td><td>13.0</td><td>6.5</td></tr><tr><td>1976</td><td>McLaren</td><td>20</td><td>147.0</td><td>7.35</td></tr><tr><td>1976</td><td>Ferrari</td><td>22</td><td>159.0</td><td>7.2272727272727275</td></tr><tr><td>1976</td><td>Williams</td><td>1</td><td>2.0</td><td>2.0</td></tr><tr><td>1977</td><td>Ferrari</td><td>24</td><td>189.0</td><td>7.875</td></tr><tr><td>1977</td><td>McLaren</td><td>20</td><td>124.0</td><td>6.2</td></tr><tr><td>1978</td><td>Ferrari</td><td>20</td><td>119.0</td><td>5.95</td></tr><tr><td>1978</td><td>Williams</td><td>7</td><td>32.0</td><td>4.571428571428571</td></tr><tr><td>1978</td><td>McLaren</td><td>21</td><td>86.0</td><td>4.095238095238095</td></tr><tr><td>1979</td><td>Ferrari</td><td>24</td><td>183.0</td><td>7.625</td></tr><tr><td>1979</td><td>Williams</td><td>17</td><td>117.0</td><td>6.882352941176471</td></tr><tr><td>1979</td><td>McLaren</td><td>13</td><td>55.0</td><td>4.230769230769231</td></tr><tr><td>1980</td><td>Williams</td><td>22</td><td>182.0</td><td>8.272727272727273</td></tr><tr><td>1980</td><td>McLaren</td><td>10</td><td>50.0</td><td>5.0</td></tr><tr><td>1980</td><td>Ferrari</td><td>12</td><td>47.0</td><td>3.9166666666666665</td></tr><tr><td>1981</td><td>Williams</td><td>21</td><td>154.0</td><td>7.333333333333333</td></tr><tr><td>1981</td><td>Ferrari</td><td>13</td><td>72.0</td><td>5.538461538461538</td></tr><tr><td>1981</td><td>McLaren</td><td>13</td><td>70.0</td><td>5.384615384615385</td></tr><tr><td>1982</td><td>Ferrari</td><td>16</td><td>122.0</td><td>7.625</td></tr><tr><td>1982</td><td>McLaren</td><td>17</td><td>118.0</td><td>6.9411764705882355</td></tr><tr><td>1982</td><td>Williams</td><td>20</td><td>128.0</td><td>6.4</td></tr><tr><td>1983</td><td>Ferrari</td><td>20</td><td>148.0</td><td>7.4</td></tr><tr><td>1983</td><td>McLaren</td><td>12</td><td>74.0</td><td>6.166666666666667</td></tr><tr><td>1983</td><td>Williams</td><td>16</td><td>94.0</td><td>5.875</td></tr><tr><td>1984</td><td>McLaren</td><td>21</td><td>191.0</td><td>9.095238095238095</td></tr><tr><td>1984</td><td>Ferrari</td><td>18</td><td>123.0</td><td>6.833333333333333</td></tr><tr><td>1984</td><td>Williams</td><td>10</td><td>60.0</td><td>6.0</td></tr><tr><td>1985</td><td>McLaren</td><td>16</td><td>134.0</td><td>8.375</td></tr><tr><td>1985</td><td>Ferrari</td><td>20</td><td>147.0</td><td>7.35</td></tr><tr><td>1985</td><td>Williams</td><td>17</td><td>123.0</td><td>7.235294117647059</td></tr><tr><td>1986</td><td>Williams</td><td>24</td><td>205.0</td><td>8.541666666666666</td></tr><tr><td>1986</td><td>McLaren</td><td>21</td><td>161.0</td><td>7.666666666666667</td></tr><tr><td>1986</td><td>Ferrari</td><td>15</td><td>88.0</td><td>5.866666666666666</td></tr><tr><td>1987</td><td>Williams</td><td>22</td><td>189.0</td><td>8.590909090909092</td></tr><tr><td>1987</td><td>Ferrari</td><td>12</td><td>92.0</td><td>7.666666666666667</td></tr><tr><td>1987</td><td>McLaren</td><td>22</td><td>149.0</td><td>6.7727272727272725</td></tr><tr><td>1988</td><td>McLaren</td><td>28</td><td>253.0</td><td>9.035714285714286</td></tr><tr><td>1988</td><td>Ferrari</td><td>18</td><td>129.0</td><td>7.166666666666667</td></tr><tr><td>1988</td><td>Williams</td><td>10</td><td>57.0</td><td>5.7</td></tr><tr><td>1989</td><td>Ferrari</td><td>9</td><td>82.0</td><td>9.11111111111111</td></tr><tr><td>1989</td><td>McLaren</td><td>21</td><td>188.0</td><td>8.952380952380953</td></tr><tr><td>1989</td><td>Williams</td><td>19</td><td>137.0</td><td>7.2105263157894735</td></tr><tr><td>1990</td><td>Ferrari</td><td>19</td><td>163.0</td><td>8.578947368421053</td></tr><tr><td>1990</td><td>McLaren</td><td>22</td><td>187.0</td><td>8.5</td></tr><tr><td>1990</td><td>Williams</td><td>21</td><td>130.0</td><td>6.190476190476191</td></tr><tr><td>1991</td><td>Williams</td><td>21</td><td>179.0</td><td>8.523809523809524</td></tr><tr><td>1991</td><td>McLaren</td><td>24</td><td>204.0</td><td>8.5</td></tr><tr><td>1991</td><td>Ferrari</td><td>16</td><td>117.0</td><td>7.3125</td></tr><tr><td>1992</td><td>Williams</td><td>23</td><td>206.0</td><td>8.956521739130435</td></tr><tr><td>1992</td><td>McLaren</td><td>19</td><td>150.0</td><td>7.894736842105263</td></tr><tr><td>1992</td><td>Ferrari</td><td>10</td><td>56.0</td><td>5.6</td></tr><tr><td>1993</td><td>Williams</td><td>24</td><td>217.0</td><td>9.041666666666666</td></tr><tr><td>1993</td><td>McLaren</td><td>17</td><td>128.0</td><td>7.529411764705882</td></tr><tr><td>1993</td><td>Ferrari</td><td>14</td><td>77.0</td><td>5.5</td></tr><tr><td>1994</td><td>Williams</td><td>20</td><td>163.0</td><td>8.15</td></tr><tr><td>1994</td><td>Ferrari</td><td>17</td><td>127.0</td><td>7.470588235294118</td></tr><tr><td>1994</td><td>McLaren</td><td>13</td><td>91.0</td><td>7.0</td></tr><tr><td>1995</td><td>Williams</td><td>19</td><td>167.0</td><td>8.789473684210526</td></tr><tr><td>1995</td><td>Ferrari</td><td>18</td><td>137.0</td><td>7.611111111111111</td></tr><tr><td>1995</td><td>McLaren</td><td>17</td><td>85.0</td><td>5.0</td></tr><tr><td>1996</td><td>Williams</td><td>24</td><td>216.0</td><td>9.0</td></tr><tr><td>1996</td><td>Ferrari</td><td>16</td><td>117.0</td><td>7.3125</td></tr><tr><td>1996</td><td>McLaren</td><td>21</td><td>129.0</td><td>6.142857142857143</td></tr><tr><td>1997</td><td>Williams</td><td>23</td><td>177.0</td><td>7.695652173913044</td></tr><tr><td>1997</td><td>Ferrari</td><td>22</td><td>160.0</td><td>7.2727272727272725</td></tr><tr><td>1997</td><td>McLaren</td><td>19</td><td>117.0</td><td>6.157894736842105</td></tr><tr><td>1998</td><td>McLaren</td><td>25</td><td>212.0</td><td>8.48</td></tr><tr><td>1998</td><td>Ferrari</td><td>26</td><td>203.0</td><td>7.8076923076923075</td></tr><tr><td>1998</td><td>Williams</td><td>24</td><td>125.0</td><td>5.208333333333333</td></tr><tr><td>1999</td><td>McLaren</td><td>20</td><td>170.0</td><td>8.5</td></tr><tr><td>1999</td><td>Ferrari</td><td>27</td><td>203.0</td><td>7.518518518518518</td></tr><tr><td>1999</td><td>Williams</td><td>16</td><td>91.0</td><td>5.6875</td></tr><tr><td>2000</td><td>Ferrari</td><td>26</td><td>228.0</td><td>8.76923076923077</td></tr><tr><td>2000</td><td>McLaren</td><td>28</td><td>236.0</td><td>8.428571428571429</td></tr><tr><td>2000</td><td>Williams</td><td>18</td><td>102.0</td><td>5.666666666666667</td></tr><tr><td>2001</td><td>Ferrari</td><td>28</td><td>245.0</td><td>8.75</td></tr><tr><td>2001</td><td>Williams</td><td>16</td><td>123.0</td><td>7.6875</td></tr><tr><td>2001</td><td>McLaren</td><td>23</td><td>173.0</td><td>7.521739130434782</td></tr><tr><td>2002</td><td>Ferrari</td><td>29</td><td>267.0</td><td>9.206896551724139</td></tr><tr><td>2002</td><td>Williams</td><td>24</td><td>178.0</td><td>7.416666666666667</td></tr><tr><td>2002</td><td>McLaren</td><td>19</td><td>132.0</td><td>6.947368421052632</td></tr><tr><td>2003</td><td>McLaren</td><td>23</td><td>176.0</td><td>7.6521739130434785</td></tr><tr><td>2003</td><td>Ferrari</td><td>26</td><td>193.0</td><td>7.423076923076923</td></tr><tr><td>2003</td><td>Williams</td><td>25</td><td>180.0</td><td>7.2</td></tr><tr><td>2004</td><td>Ferrari</td><td>32</td><td>287.0</td><td>8.96875</td></tr><tr><td>2004</td><td>Williams</td><td>24</td><td>130.0</td><td>5.416666666666667</td></tr><tr><td>2004</td><td>McLaren</td><td>21</td><td>106.0</td><td>5.0476190476190474</td></tr><tr><td>2005</td><td>McLaren</td><td>27</td><td>212.0</td><td>7.851851851851852</td></tr><tr><td>2005</td><td>Williams</td><td>17</td><td>97.0</td><td>5.705882352941177</td></tr><tr><td>2005</td><td>Ferrari</td><td>27</td><td>143.0</td><td>5.296296296296297</td></tr><tr><td>2005</td><td>Red Bull</td><td>22</td><td>77.0</td><td>3.5</td></tr><tr><td>2006</td><td>Ferrari</td><td>32</td><td>240.0</td><td>7.5</td></tr><tr><td>2006</td><td>McLaren</td><td>22</td><td>150.0</td><td>6.818181818181818</td></tr><tr><td>2006</td><td>Red Bull</td><td>10</td><td>35.0</td><td>3.5</td></tr><tr><td>2006</td><td>Williams</td><td>11</td><td>30.0</td><td>2.727272727272727</td></tr><tr><td>2007</td><td>Ferrari</td><td>29</td><td>238.0</td><td>8.206896551724139</td></tr><tr><td>2007</td><td>McLaren</td><td>32</td><td>257.0</td><td>8.03125</td></tr><tr><td>2007</td><td>Williams</td><td>16</td><td>61.0</td><td>3.8125</td></tr><tr><td>2007</td><td>Red Bull</td><td>14</td><td>49.0</td><td>3.5</td></tr><tr><td>2008</td><td>Ferrari</td><td>27</td><td>206.0</td><td>7.62962962962963</td></tr><tr><td>2008</td><td>McLaren</td><td>29</td><td>191.0</td><td>6.586206896551724</td></tr><tr><td>2008</td><td>Williams</td><td>13</td><td>49.0</td><td>3.769230769230769</td></tr><tr><td>2008</td><td>Red Bull</td><td>18</td><td>63.0</td><td>3.5</td></tr><tr><td>2009</td><td>Red Bull</td><td>24</td><td>185.0</td><td>7.708333333333333</td></tr><tr><td>2009</td><td>McLaren</td><td>17</td><td>101.0</td><td>5.9411764705882355</td></tr><tr><td>2009</td><td>Ferrari</td><td>19</td><td>103.0</td><td>5.421052631578948</td></tr><tr><td>2009</td><td>Williams</td><td>16</td><td>66.0</td><td>4.125</td></tr><tr><td>2010</td><td>Red Bull</td><td>32</td><td>241.0</td><td>7.53125</td></tr><tr><td>2010</td><td>McLaren</td><td>31</td><td>231.0</td><td>7.451612903225806</td></tr><tr><td>2010</td><td>Ferrari</td><td>30</td><td>203.0</td><td>6.766666666666667</td></tr><tr><td>2010</td><td>Mercedes</td><td>27</td><td>131.0</td><td>4.851851851851852</td></tr><tr><td>2010</td><td>Williams</td><td>17</td><td>48.0</td><td>2.823529411764706</td></tr><tr><td>2011</td><td>Red Bull</td><td>36</td><td>308.0</td><td>8.555555555555555</td></tr><tr><td>2011</td><td>McLaren</td><td>33</td><td>251.0</td><td>7.606060606060606</td></tr><tr><td>2011</td><td>Ferrari</td><td>33</td><td>210.0</td><td>6.363636363636363</td></tr><tr><td>2011</td><td>Mercedes</td><td>25</td><td>107.0</td><td>4.28</td></tr><tr><td>2011</td><td>Williams</td><td>3</td><td>5.0</td><td>1.6666666666666667</td></tr><tr><td>2012</td><td>Red Bull</td><td>32</td><td>232.0</td><td>7.25</td></tr><tr><td>2012</td><td>McLaren</td><td>28</td><td>187.0</td><td>6.678571428571429</td></tr><tr><td>2012</td><td>Ferrari</td><td>32</td><td>212.0</td><td>6.625</td></tr><tr><td>2012</td><td>Mercedes</td><td>18</td><td>82.0</td><td>4.555555555555555</td></tr><tr><td>2012</td><td>Williams</td><td>15</td><td>47.0</td><td>3.1333333333333333</td></tr><tr><td>2013</td><td>Red Bull</td><td>33</td><td>277.0</td><td>8.393939393939394</td></tr><tr><td>2013</td><td>Ferrari</td><td>32</td><td>195.0</td><td>6.09375</td></tr><tr><td>2013</td><td>Mercedes</td><td>33</td><td>199.0</td><td>6.03030303030303</td></tr><tr><td>2013</td><td>McLaren</td><td>25</td><td>84.0</td><td>3.36</td></tr><tr><td>2013</td><td>Williams</td><td>2</td><td>4.0</td><td>2.0</td></tr><tr><td>2014</td><td>Mercedes</td><td>32</td><td>300.0</td><td>9.375</td></tr><tr><td>2014</td><td>Red Bull</td><td>32</td><td>211.0</td><td>6.59375</td></tr><tr><td>2014</td><td>Williams</td><td>28</td><td>165.0</td><td>5.892857142857143</td></tr><tr><td>2014</td><td>Ferrari</td><td>30</td><td>133.0</td><td>4.433333333333334</td></tr><tr><td>2014</td><td>McLaren</td><td>25</td><td>107.0</td><td>4.28</td></tr><tr><td>2015</td><td>Mercedes</td><td>35</td><td>316.0</td><td>9.028571428571428</td></tr><tr><td>2015</td><td>Ferrari</td><td>31</td><td>226.0</td><td>7.290322580645161</td></tr><tr><td>2015</td><td>Williams</td><td>26</td><td>152.0</td><td>5.846153846153846</td></tr><tr><td>2015</td><td>Red Bull</td><td>27</td><td>115.0</td><td>4.2592592592592595</td></tr><tr><td>2015</td><td>McLaren</td><td>6</td><td>19.0</td><td>3.1666666666666665</td></tr><tr><td>2016</td><td>Mercedes</td><td>39</td><td>344.0</td><td>8.820512820512821</td></tr><tr><td>2016</td><td>Red Bull</td><td>36</td><td>252.0</td><td>7.0</td></tr><tr><td>2016</td><td>Ferrari</td><td>34</td><td>225.0</td><td>6.617647058823529</td></tr><tr><td>2016</td><td>Williams</td><td>28</td><td>94.0</td><td>3.357142857142857</td></tr><tr><td>2016</td><td>McLaren</td><td>17</td><td>53.0</td><td>3.1176470588235294</td></tr><tr><td>2017</td><td>Mercedes</td><td>39</td><td>319.0</td><td>8.179487179487179</td></tr><tr><td>2017</td><td>Ferrari</td><td>34</td><td>266.0</td><td>7.823529411764706</td></tr><tr><td>2017</td><td>Red Bull</td><td>27</td><td>194.0</td><td>7.185185185185185</td></tr><tr><td>2017</td><td>Williams</td><td>20</td><td>59.0</td><td>2.95</td></tr><tr><td>2017</td><td>McLaren</td><td>8</td><td>22.0</td><td>2.75</td></tr><tr><td>2018</td><td>Mercedes</td><td>39</td><td>316.0</td><td>8.102564102564102</td></tr><tr><td>2018</td><td>Ferrari</td><td>37</td><td>289.0</td><td>7.8108108108108105</td></tr><tr><td>2018</td><td>Red Bull</td><td>30</td><td>219.0</td><td>7.3</td></tr><tr><td>2018</td><td>McLaren</td><td>13</td><td>44.0</td><td>3.3846153846153846</td></tr><tr><td>2018</td><td>Williams</td><td>2</td><td>4.0</td><td>2.0</td></tr><tr><td>2019</td><td>Mercedes</td><td>40</td><td>339.0</td><td>8.475</td></tr><tr><td>2019</td><td>Ferrari</td><td>34</td><td>261.0</td><td>7.676470588235294</td></tr><tr><td>2019</td><td>Red Bull</td><td>36</td><td>227.0</td><td>6.305555555555555</td></tr><tr><td>2019</td><td>McLaren</td><td>24</td><td>95.0</td><td>3.9583333333333335</td></tr><tr><td>2019</td><td>Williams</td><td>1</td><td>1.0</td><td>1.0</td></tr><tr><td>2020</td><td>Mercedes</td><td>31</td><td>258.0</td><td>8.32258064516129</td></tr><tr><td>2020</td><td>Red Bull</td><td>24</td><td>166.0</td><td>6.916666666666667</td></tr><tr><td>2020</td><td>McLaren</td><td>25</td><td>122.0</td><td>4.88</td></tr><tr><td>2020</td><td>Ferrari</td><td>17</td><td>78.0</td><td>4.588235294117647</td></tr></tbody></table></div>"
      ]
     },
     "metadata": {
      "application/vnd.databricks.v1+output": {
       "addedWidgets": {},
       "aggData": [],
       "aggError": "",
       "aggOverflow": false,
       "aggSchema": [],
       "aggSeriesLimitReached": false,
       "aggType": "",
       "arguments": {},
       "columnCustomDisplayInfos": {},
       "data": [
        [
         1950,
         "Ferrari",
         8,
         57.0,
         7.125
        ],
        [
         1951,
         "Ferrari",
         22,
         168.0,
         7.636363636363637
        ],
        [
         1952,
         "Ferrari",
         28,
         202.0,
         7.214285714285714
        ],
        [
         1953,
         "Ferrari",
         35,
         230.0,
         6.571428571428571
        ],
        [
         1954,
         "Mercedes",
         12,
         96.0,
         8.0
        ],
        [
         1954,
         "Ferrari",
         25,
         175.0,
         7.0
        ],
        [
         1955,
         "Mercedes",
         15,
         124.0,
         8.266666666666667
        ],
        [
         1955,
         "Ferrari",
         21,
         131.0,
         6.238095238095238
        ],
        [
         1956,
         "Ferrari",
         23,
         172.0,
         7.478260869565218
        ],
        [
         1957,
         "Ferrari",
         20,
         130.0,
         6.5
        ],
        [
         1958,
         "Ferrari",
         21,
         159.0,
         7.571428571428571
        ],
        [
         1959,
         "Ferrari",
         19,
         132.0,
         6.947368421052632
        ],
        [
         1960,
         "Ferrari",
         17,
         102.0,
         6.0
        ],
        [
         1961,
         "Ferrari",
         19,
         152.0,
         8.0
        ],
        [
         1962,
         "Ferrari",
         12,
         73.0,
         6.083333333333333
        ],
        [
         1963,
         "Ferrari",
         8,
         53.0,
         6.625
        ],
        [
         1964,
         "Ferrari",
         15,
         105.0,
         7.0
        ],
        [
         1965,
         "Ferrari",
         16,
         86.0,
         5.375
        ],
        [
         1966,
         "Ferrari",
         8,
         65.0,
         8.125
        ],
        [
         1967,
         "Ferrari",
         11,
         64.0,
         5.818181818181818
        ],
        [
         1968,
         "Ferrari",
         10,
         70.0,
         7.0
        ],
        [
         1969,
         "Ferrari",
         4,
         23.0,
         5.75
        ],
        [
         1970,
         "Ferrari",
         15,
         119.0,
         7.933333333333334
        ],
        [
         1971,
         "Ferrari",
         11,
         79.0,
         7.181818181818182
        ],
        [
         1971,
         "McLaren",
         11,
         46.0,
         4.181818181818182
        ],
        [
         1972,
         "McLaren",
         20,
         136.0,
         6.8
        ],
        [
         1972,
         "Ferrari",
         15,
         99.0,
         6.6
        ],
        [
         1973,
         "McLaren",
         24,
         147.0,
         6.125
        ],
        [
         1973,
         "Ferrari",
         11,
         54.0,
         4.909090909090909
        ],
        [
         1974,
         "Ferrari",
         17,
         142.0,
         8.352941176470589
        ],
        [
         1974,
         "McLaren",
         31,
         187.0,
         6.032258064516129
        ],
        [
         1975,
         "Ferrari",
         20,
         150.0,
         7.5
        ],
        [
         1975,
         "McLaren",
         18,
         127.0,
         7.055555555555555
        ],
        [
         1975,
         "Williams",
         2,
         13.0,
         6.5
        ],
        [
         1976,
         "McLaren",
         20,
         147.0,
         7.35
        ],
        [
         1976,
         "Ferrari",
         22,
         159.0,
         7.2272727272727275
        ],
        [
         1976,
         "Williams",
         1,
         2.0,
         2.0
        ],
        [
         1977,
         "Ferrari",
         24,
         189.0,
         7.875
        ],
        [
         1977,
         "McLaren",
         20,
         124.0,
         6.2
        ],
        [
         1978,
         "Ferrari",
         20,
         119.0,
         5.95
        ],
        [
         1978,
         "Williams",
         7,
         32.0,
         4.571428571428571
        ],
        [
         1978,
         "McLaren",
         21,
         86.0,
         4.095238095238095
        ],
        [
         1979,
         "Ferrari",
         24,
         183.0,
         7.625
        ],
        [
         1979,
         "Williams",
         17,
         117.0,
         6.882352941176471
        ],
        [
         1979,
         "McLaren",
         13,
         55.0,
         4.230769230769231
        ],
        [
         1980,
         "Williams",
         22,
         182.0,
         8.272727272727273
        ],
        [
         1980,
         "McLaren",
         10,
         50.0,
         5.0
        ],
        [
         1980,
         "Ferrari",
         12,
         47.0,
         3.9166666666666665
        ],
        [
         1981,
         "Williams",
         21,
         154.0,
         7.333333333333333
        ],
        [
         1981,
         "Ferrari",
         13,
         72.0,
         5.538461538461538
        ],
        [
         1981,
         "McLaren",
         13,
         70.0,
         5.384615384615385
        ],
        [
         1982,
         "Ferrari",
         16,
         122.0,
         7.625
        ],
        [
         1982,
         "McLaren",
         17,
         118.0,
         6.9411764705882355
        ],
        [
         1982,
         "Williams",
         20,
         128.0,
         6.4
        ],
        [
         1983,
         "Ferrari",
         20,
         148.0,
         7.4
        ],
        [
         1983,
         "McLaren",
         12,
         74.0,
         6.166666666666667
        ],
        [
         1983,
         "Williams",
         16,
         94.0,
         5.875
        ],
        [
         1984,
         "McLaren",
         21,
         191.0,
         9.095238095238095
        ],
        [
         1984,
         "Ferrari",
         18,
         123.0,
         6.833333333333333
        ],
        [
         1984,
         "Williams",
         10,
         60.0,
         6.0
        ],
        [
         1985,
         "McLaren",
         16,
         134.0,
         8.375
        ],
        [
         1985,
         "Ferrari",
         20,
         147.0,
         7.35
        ],
        [
         1985,
         "Williams",
         17,
         123.0,
         7.235294117647059
        ],
        [
         1986,
         "Williams",
         24,
         205.0,
         8.541666666666666
        ],
        [
         1986,
         "McLaren",
         21,
         161.0,
         7.666666666666667
        ],
        [
         1986,
         "Ferrari",
         15,
         88.0,
         5.866666666666666
        ],
        [
         1987,
         "Williams",
         22,
         189.0,
         8.590909090909092
        ],
        [
         1987,
         "Ferrari",
         12,
         92.0,
         7.666666666666667
        ],
        [
         1987,
         "McLaren",
         22,
         149.0,
         6.7727272727272725
        ],
        [
         1988,
         "McLaren",
         28,
         253.0,
         9.035714285714286
        ],
        [
         1988,
         "Ferrari",
         18,
         129.0,
         7.166666666666667
        ],
        [
         1988,
         "Williams",
         10,
         57.0,
         5.7
        ],
        [
         1989,
         "Ferrari",
         9,
         82.0,
         9.11111111111111
        ],
        [
         1989,
         "McLaren",
         21,
         188.0,
         8.952380952380953
        ],
        [
         1989,
         "Williams",
         19,
         137.0,
         7.2105263157894735
        ],
        [
         1990,
         "Ferrari",
         19,
         163.0,
         8.578947368421053
        ],
        [
         1990,
         "McLaren",
         22,
         187.0,
         8.5
        ],
        [
         1990,
         "Williams",
         21,
         130.0,
         6.190476190476191
        ],
        [
         1991,
         "Williams",
         21,
         179.0,
         8.523809523809524
        ],
        [
         1991,
         "McLaren",
         24,
         204.0,
         8.5
        ],
        [
         1991,
         "Ferrari",
         16,
         117.0,
         7.3125
        ],
        [
         1992,
         "Williams",
         23,
         206.0,
         8.956521739130435
        ],
        [
         1992,
         "McLaren",
         19,
         150.0,
         7.894736842105263
        ],
        [
         1992,
         "Ferrari",
         10,
         56.0,
         5.6
        ],
        [
         1993,
         "Williams",
         24,
         217.0,
         9.041666666666666
        ],
        [
         1993,
         "McLaren",
         17,
         128.0,
         7.529411764705882
        ],
        [
         1993,
         "Ferrari",
         14,
         77.0,
         5.5
        ],
        [
         1994,
         "Williams",
         20,
         163.0,
         8.15
        ],
        [
         1994,
         "Ferrari",
         17,
         127.0,
         7.470588235294118
        ],
        [
         1994,
         "McLaren",
         13,
         91.0,
         7.0
        ],
        [
         1995,
         "Williams",
         19,
         167.0,
         8.789473684210526
        ],
        [
         1995,
         "Ferrari",
         18,
         137.0,
         7.611111111111111
        ],
        [
         1995,
         "McLaren",
         17,
         85.0,
         5.0
        ],
        [
         1996,
         "Williams",
         24,
         216.0,
         9.0
        ],
        [
         1996,
         "Ferrari",
         16,
         117.0,
         7.3125
        ],
        [
         1996,
         "McLaren",
         21,
         129.0,
         6.142857142857143
        ],
        [
         1997,
         "Williams",
         23,
         177.0,
         7.695652173913044
        ],
        [
         1997,
         "Ferrari",
         22,
         160.0,
         7.2727272727272725
        ],
        [
         1997,
         "McLaren",
         19,
         117.0,
         6.157894736842105
        ],
        [
         1998,
         "McLaren",
         25,
         212.0,
         8.48
        ],
        [
         1998,
         "Ferrari",
         26,
         203.0,
         7.8076923076923075
        ],
        [
         1998,
         "Williams",
         24,
         125.0,
         5.208333333333333
        ],
        [
         1999,
         "McLaren",
         20,
         170.0,
         8.5
        ],
        [
         1999,
         "Ferrari",
         27,
         203.0,
         7.518518518518518
        ],
        [
         1999,
         "Williams",
         16,
         91.0,
         5.6875
        ],
        [
         2000,
         "Ferrari",
         26,
         228.0,
         8.76923076923077
        ],
        [
         2000,
         "McLaren",
         28,
         236.0,
         8.428571428571429
        ],
        [
         2000,
         "Williams",
         18,
         102.0,
         5.666666666666667
        ],
        [
         2001,
         "Ferrari",
         28,
         245.0,
         8.75
        ],
        [
         2001,
         "Williams",
         16,
         123.0,
         7.6875
        ],
        [
         2001,
         "McLaren",
         23,
         173.0,
         7.521739130434782
        ],
        [
         2002,
         "Ferrari",
         29,
         267.0,
         9.206896551724139
        ],
        [
         2002,
         "Williams",
         24,
         178.0,
         7.416666666666667
        ],
        [
         2002,
         "McLaren",
         19,
         132.0,
         6.947368421052632
        ],
        [
         2003,
         "McLaren",
         23,
         176.0,
         7.6521739130434785
        ],
        [
         2003,
         "Ferrari",
         26,
         193.0,
         7.423076923076923
        ],
        [
         2003,
         "Williams",
         25,
         180.0,
         7.2
        ],
        [
         2004,
         "Ferrari",
         32,
         287.0,
         8.96875
        ],
        [
         2004,
         "Williams",
         24,
         130.0,
         5.416666666666667
        ],
        [
         2004,
         "McLaren",
         21,
         106.0,
         5.0476190476190474
        ],
        [
         2005,
         "McLaren",
         27,
         212.0,
         7.851851851851852
        ],
        [
         2005,
         "Williams",
         17,
         97.0,
         5.705882352941177
        ],
        [
         2005,
         "Ferrari",
         27,
         143.0,
         5.296296296296297
        ],
        [
         2005,
         "Red Bull",
         22,
         77.0,
         3.5
        ],
        [
         2006,
         "Ferrari",
         32,
         240.0,
         7.5
        ],
        [
         2006,
         "McLaren",
         22,
         150.0,
         6.818181818181818
        ],
        [
         2006,
         "Red Bull",
         10,
         35.0,
         3.5
        ],
        [
         2006,
         "Williams",
         11,
         30.0,
         2.727272727272727
        ],
        [
         2007,
         "Ferrari",
         29,
         238.0,
         8.206896551724139
        ],
        [
         2007,
         "McLaren",
         32,
         257.0,
         8.03125
        ],
        [
         2007,
         "Williams",
         16,
         61.0,
         3.8125
        ],
        [
         2007,
         "Red Bull",
         14,
         49.0,
         3.5
        ],
        [
         2008,
         "Ferrari",
         27,
         206.0,
         7.62962962962963
        ],
        [
         2008,
         "McLaren",
         29,
         191.0,
         6.586206896551724
        ],
        [
         2008,
         "Williams",
         13,
         49.0,
         3.769230769230769
        ],
        [
         2008,
         "Red Bull",
         18,
         63.0,
         3.5
        ],
        [
         2009,
         "Red Bull",
         24,
         185.0,
         7.708333333333333
        ],
        [
         2009,
         "McLaren",
         17,
         101.0,
         5.9411764705882355
        ],
        [
         2009,
         "Ferrari",
         19,
         103.0,
         5.421052631578948
        ],
        [
         2009,
         "Williams",
         16,
         66.0,
         4.125
        ],
        [
         2010,
         "Red Bull",
         32,
         241.0,
         7.53125
        ],
        [
         2010,
         "McLaren",
         31,
         231.0,
         7.451612903225806
        ],
        [
         2010,
         "Ferrari",
         30,
         203.0,
         6.766666666666667
        ],
        [
         2010,
         "Mercedes",
         27,
         131.0,
         4.851851851851852
        ],
        [
         2010,
         "Williams",
         17,
         48.0,
         2.823529411764706
        ],
        [
         2011,
         "Red Bull",
         36,
         308.0,
         8.555555555555555
        ],
        [
         2011,
         "McLaren",
         33,
         251.0,
         7.606060606060606
        ],
        [
         2011,
         "Ferrari",
         33,
         210.0,
         6.363636363636363
        ],
        [
         2011,
         "Mercedes",
         25,
         107.0,
         4.28
        ],
        [
         2011,
         "Williams",
         3,
         5.0,
         1.6666666666666667
        ],
        [
         2012,
         "Red Bull",
         32,
         232.0,
         7.25
        ],
        [
         2012,
         "McLaren",
         28,
         187.0,
         6.678571428571429
        ],
        [
         2012,
         "Ferrari",
         32,
         212.0,
         6.625
        ],
        [
         2012,
         "Mercedes",
         18,
         82.0,
         4.555555555555555
        ],
        [
         2012,
         "Williams",
         15,
         47.0,
         3.1333333333333333
        ],
        [
         2013,
         "Red Bull",
         33,
         277.0,
         8.393939393939394
        ],
        [
         2013,
         "Ferrari",
         32,
         195.0,
         6.09375
        ],
        [
         2013,
         "Mercedes",
         33,
         199.0,
         6.03030303030303
        ],
        [
         2013,
         "McLaren",
         25,
         84.0,
         3.36
        ],
        [
         2013,
         "Williams",
         2,
         4.0,
         2.0
        ],
        [
         2014,
         "Mercedes",
         32,
         300.0,
         9.375
        ],
        [
         2014,
         "Red Bull",
         32,
         211.0,
         6.59375
        ],
        [
         2014,
         "Williams",
         28,
         165.0,
         5.892857142857143
        ],
        [
         2014,
         "Ferrari",
         30,
         133.0,
         4.433333333333334
        ],
        [
         2014,
         "McLaren",
         25,
         107.0,
         4.28
        ],
        [
         2015,
         "Mercedes",
         35,
         316.0,
         9.028571428571428
        ],
        [
         2015,
         "Ferrari",
         31,
         226.0,
         7.290322580645161
        ],
        [
         2015,
         "Williams",
         26,
         152.0,
         5.846153846153846
        ],
        [
         2015,
         "Red Bull",
         27,
         115.0,
         4.2592592592592595
        ],
        [
         2015,
         "McLaren",
         6,
         19.0,
         3.1666666666666665
        ],
        [
         2016,
         "Mercedes",
         39,
         344.0,
         8.820512820512821
        ],
        [
         2016,
         "Red Bull",
         36,
         252.0,
         7.0
        ],
        [
         2016,
         "Ferrari",
         34,
         225.0,
         6.617647058823529
        ],
        [
         2016,
         "Williams",
         28,
         94.0,
         3.357142857142857
        ],
        [
         2016,
         "McLaren",
         17,
         53.0,
         3.1176470588235294
        ],
        [
         2017,
         "Mercedes",
         39,
         319.0,
         8.179487179487179
        ],
        [
         2017,
         "Ferrari",
         34,
         266.0,
         7.823529411764706
        ],
        [
         2017,
         "Red Bull",
         27,
         194.0,
         7.185185185185185
        ],
        [
         2017,
         "Williams",
         20,
         59.0,
         2.95
        ],
        [
         2017,
         "McLaren",
         8,
         22.0,
         2.75
        ],
        [
         2018,
         "Mercedes",
         39,
         316.0,
         8.102564102564102
        ],
        [
         2018,
         "Ferrari",
         37,
         289.0,
         7.8108108108108105
        ],
        [
         2018,
         "Red Bull",
         30,
         219.0,
         7.3
        ],
        [
         2018,
         "McLaren",
         13,
         44.0,
         3.3846153846153846
        ],
        [
         2018,
         "Williams",
         2,
         4.0,
         2.0
        ],
        [
         2019,
         "Mercedes",
         40,
         339.0,
         8.475
        ],
        [
         2019,
         "Ferrari",
         34,
         261.0,
         7.676470588235294
        ],
        [
         2019,
         "Red Bull",
         36,
         227.0,
         6.305555555555555
        ],
        [
         2019,
         "McLaren",
         24,
         95.0,
         3.9583333333333335
        ],
        [
         2019,
         "Williams",
         1,
         1.0,
         1.0
        ],
        [
         2020,
         "Mercedes",
         31,
         258.0,
         8.32258064516129
        ],
        [
         2020,
         "Red Bull",
         24,
         166.0,
         6.916666666666667
        ],
        [
         2020,
         "McLaren",
         25,
         122.0,
         4.88
        ],
        [
         2020,
         "Ferrari",
         17,
         78.0,
         4.588235294117647
        ]
       ],
       "datasetInfos": [],
       "dbfsResultPath": null,
       "isJsonSchema": true,
       "metadata": {
        "isDbfsCommandResult": false
       },
       "overflow": false,
       "plotOptions": {
        "customPlotOptions": {},
        "displayType": "table",
        "pivotAggregation": null,
        "pivotColumns": null,
        "xColumns": null,
        "yColumns": null
       },
       "removedWidgets": [],
       "schema": [
        {
         "metadata": "{}",
         "name": "race_year",
         "type": "\"integer\""
        },
        {
         "metadata": "{}",
         "name": "team_name",
         "type": "\"string\""
        },
        {
         "metadata": "{}",
         "name": "total_races",
         "type": "\"long\""
        },
        {
         "metadata": "{}",
         "name": "total_points",
         "type": "\"double\""
        },
        {
         "metadata": "{}",
         "name": "average_points",
         "type": "\"double\""
        }
       ],
       "type": "table"
      }
     },
     "output_type": "display_data"
    },
    {
     "output_type": "display_data",
     "data": {
      "text/plain": [
       "Databricks visualization. Run in Databricks to view."
      ]
     },
     "metadata": {
      "application/vnd.databricks.v1.subcommand+json": {
       "baseErrorDetails": null,
       "bindings": {},
       "collapsed": false,
       "command": "%sql WITH q AS (SELECT race_year, team_name,\n    count(1) as total_races,\n    SUM(calculated_points) as total_points,\n    avg(calculated_points) as average_points\nFROM f1_presentation.calculate_race_results\nWHERE team_name IN (\n    SELECT team_name \n    FROM d_dominant_teams \n    WHERE team <= 5\n)\nGROUP BY race_year, team_name\nORDER BY race_year, average_points DESC) SELECT `race_year`,SUM(`average_points`) `column_d35edb92156`,`team_name` FROM q GROUP BY `race_year`,`team_name`",
       "commandTitle": "Area Chart",
       "commandType": "auto",
       "commandVersion": 0,
       "commentThread": [],
       "commentsVisible": false,
       "contentSha256Hex": null,
       "customPlotOptions": {
        "redashChart": [
         {
          "key": "type",
          "value": "CHART"
         },
         {
          "key": "options",
          "value": {
           "alignYAxesAtZero": true,
           "coefficient": 1,
           "columnConfigurationMap": {
            "series": {
             "column": "team_name",
             "id": "column_d35edb92154"
            },
            "x": {
             "column": "race_year",
             "id": "column_d35edb92153"
            },
            "y": [
             {
              "column": "average_points",
              "id": "column_d35edb92156",
              "transform": "SUM"
             }
            ]
           },
           "dateTimeFormat": "DD/MM/YYYY HH:mm",
           "direction": {
            "type": "counterclockwise"
           },
           "error_y": {
            "type": "data",
            "visible": true
           },
           "globalSeriesType": "area",
           "isAggregationOn": true,
           "legend": {
            "traceorder": "normal"
           },
           "missingValuesAsZero": true,
           "numberFormat": "0,0.[00000]",
           "percentFormat": "0[.]00%",
           "series": {
            "error_y": {
             "type": "data",
             "visible": true
            },
            "stacking": null
           },
           "seriesOptions": {
            "column_d35edb92156": {
             "type": "area",
             "yAxis": 0
            }
           },
           "showDataLabels": false,
           "sizemode": "diameter",
           "sortX": true,
           "sortY": true,
           "swappedAxes": false,
           "textFormat": "",
           "useAggregationsUi": true,
           "valuesOptions": {},
           "version": 2,
           "xAxis": {
            "labels": {
             "enabled": true
            },
            "type": "-"
           },
           "yAxis": [
            {
             "type": "-"
            },
            {
             "opposite": true,
             "type": "-"
            }
           ]
          }
         }
        ]
       },
       "datasetPreviewNameToCmdIdMap": {},
       "diffDeletes": [],
       "diffInserts": [],
       "displayType": "redashChart",
       "error": null,
       "errorDetails": null,
       "errorSummary": null,
       "errorTraceType": null,
       "finishTime": 0,
       "globalVars": {},
       "guid": "",
       "height": "auto",
       "hideCommandCode": false,
       "hideCommandResult": false,
       "iPythonMetadata": null,
       "inputWidgets": {},
       "isLockedInExamMode": false,
       "latestUser": "a user",
       "latestUserId": null,
       "listResultMetadata": null,
       "metadata": {},
       "nuid": "105beabb-6902-409d-9ed3-6d6d8b8cd46e",
       "origId": 0,
       "parentHierarchy": [],
       "pivotAggregation": null,
       "pivotColumns": null,
       "position": 4.0,
       "resultDbfsErrorMessage": null,
       "resultDbfsStatus": "INLINED_IN_TREE",
       "results": null,
       "showCommandTitle": false,
       "startTime": 0,
       "state": "input",
       "streamStates": {},
       "subcommandOptions": {
        "queryPlan": {
         "groups": [
          {
           "column": "race_year",
           "type": "column"
          },
          {
           "column": "team_name",
           "type": "column"
          }
         ],
         "selects": [
          {
           "column": "race_year",
           "type": "column"
          },
          {
           "alias": "column_d35edb92156",
           "args": [
            {
             "column": "average_points",
             "type": "column"
            }
           ],
           "function": "SUM",
           "type": "function"
          },
          {
           "column": "team_name",
           "type": "column"
          }
         ]
        }
       },
       "submitTime": 0,
       "subtype": "tableResultSubCmd.visualization",
       "tableResultIndex": 0,
       "tableResultSettingsMap": {},
       "useConsistentColors": false,
       "version": "CommandV1",
       "width": "auto",
       "workflows": [],
       "xColumns": null,
       "yColumns": null
      }
     },
     "output_type": "display_data"
    }
   ],
   "source": [
    "SELECT race_year, team_name,\n",
    "    count(1) as total_races,\n",
    "    SUM(calculated_points) as total_points,\n",
    "    avg(calculated_points) as average_points\n",
    "FROM f1_presentation.calculate_race_results\n",
    "WHERE team_name IN (\n",
    "    SELECT team_name \n",
    "    FROM d_dominant_teams \n",
    "    WHERE team <= 5\n",
    ")\n",
    "GROUP BY race_year, team_name\n",
    "ORDER BY race_year, average_points DESC;"
   ]
  },
  {
   "cell_type": "code",
   "execution_count": 0,
   "metadata": {
    "application/vnd.databricks.v1+cell": {
     "cellMetadata": {
      "byteLimit": 2048000,
      "rowLimit": 10000
     },
     "inputWidgets": {},
     "nuid": "67035a29-66ce-4439-9889-f1d39d098675",
     "showTitle": false,
     "tableResultSettingsMap": {},
     "title": ""
    }
   },
   "outputs": [
    {
     "output_type": "display_data",
     "data": {
      "text/html": [
       "<style scoped>\n",
       "  .table-result-container {\n",
       "    max-height: 300px;\n",
       "    overflow: auto;\n",
       "  }\n",
       "  table, th, td {\n",
       "    border: 1px solid black;\n",
       "    border-collapse: collapse;\n",
       "  }\n",
       "  th, td {\n",
       "    padding: 5px;\n",
       "  }\n",
       "  th {\n",
       "    text-align: left;\n",
       "  }\n",
       "</style><div class='table-result-container'><table class='table-result'><thead style='background-color: white'><tr><th>race_year</th><th>team_name</th><th>total_races</th><th>total_points</th><th>average_points</th></tr></thead><tbody><tr><td>1950</td><td>Ferrari</td><td>8</td><td>57.0</td><td>7.125</td></tr><tr><td>1951</td><td>Ferrari</td><td>22</td><td>168.0</td><td>7.636363636363637</td></tr><tr><td>1952</td><td>Ferrari</td><td>28</td><td>202.0</td><td>7.214285714285714</td></tr><tr><td>1953</td><td>Ferrari</td><td>35</td><td>230.0</td><td>6.571428571428571</td></tr><tr><td>1954</td><td>Mercedes</td><td>12</td><td>96.0</td><td>8.0</td></tr><tr><td>1954</td><td>Ferrari</td><td>25</td><td>175.0</td><td>7.0</td></tr><tr><td>1955</td><td>Mercedes</td><td>15</td><td>124.0</td><td>8.266666666666667</td></tr><tr><td>1955</td><td>Ferrari</td><td>21</td><td>131.0</td><td>6.238095238095238</td></tr><tr><td>1956</td><td>Ferrari</td><td>23</td><td>172.0</td><td>7.478260869565218</td></tr><tr><td>1957</td><td>Ferrari</td><td>20</td><td>130.0</td><td>6.5</td></tr><tr><td>1958</td><td>Ferrari</td><td>21</td><td>159.0</td><td>7.571428571428571</td></tr><tr><td>1959</td><td>Ferrari</td><td>19</td><td>132.0</td><td>6.947368421052632</td></tr><tr><td>1960</td><td>Ferrari</td><td>17</td><td>102.0</td><td>6.0</td></tr><tr><td>1961</td><td>Ferrari</td><td>19</td><td>152.0</td><td>8.0</td></tr><tr><td>1962</td><td>Ferrari</td><td>12</td><td>73.0</td><td>6.083333333333333</td></tr><tr><td>1963</td><td>Ferrari</td><td>8</td><td>53.0</td><td>6.625</td></tr><tr><td>1964</td><td>Ferrari</td><td>15</td><td>105.0</td><td>7.0</td></tr><tr><td>1965</td><td>Ferrari</td><td>16</td><td>86.0</td><td>5.375</td></tr><tr><td>1966</td><td>Ferrari</td><td>8</td><td>65.0</td><td>8.125</td></tr><tr><td>1967</td><td>Ferrari</td><td>11</td><td>64.0</td><td>5.818181818181818</td></tr><tr><td>1968</td><td>Ferrari</td><td>10</td><td>70.0</td><td>7.0</td></tr><tr><td>1969</td><td>Ferrari</td><td>4</td><td>23.0</td><td>5.75</td></tr><tr><td>1970</td><td>Ferrari</td><td>15</td><td>119.0</td><td>7.933333333333334</td></tr><tr><td>1971</td><td>Ferrari</td><td>11</td><td>79.0</td><td>7.181818181818182</td></tr><tr><td>1971</td><td>McLaren</td><td>11</td><td>46.0</td><td>4.181818181818182</td></tr><tr><td>1972</td><td>McLaren</td><td>20</td><td>136.0</td><td>6.8</td></tr><tr><td>1972</td><td>Ferrari</td><td>15</td><td>99.0</td><td>6.6</td></tr><tr><td>1973</td><td>McLaren</td><td>24</td><td>147.0</td><td>6.125</td></tr><tr><td>1973</td><td>Ferrari</td><td>11</td><td>54.0</td><td>4.909090909090909</td></tr><tr><td>1974</td><td>Ferrari</td><td>17</td><td>142.0</td><td>8.352941176470589</td></tr><tr><td>1974</td><td>McLaren</td><td>31</td><td>187.0</td><td>6.032258064516129</td></tr><tr><td>1975</td><td>Ferrari</td><td>20</td><td>150.0</td><td>7.5</td></tr><tr><td>1975</td><td>McLaren</td><td>18</td><td>127.0</td><td>7.055555555555555</td></tr><tr><td>1975</td><td>Williams</td><td>2</td><td>13.0</td><td>6.5</td></tr><tr><td>1976</td><td>McLaren</td><td>20</td><td>147.0</td><td>7.35</td></tr><tr><td>1976</td><td>Ferrari</td><td>22</td><td>159.0</td><td>7.2272727272727275</td></tr><tr><td>1976</td><td>Williams</td><td>1</td><td>2.0</td><td>2.0</td></tr><tr><td>1977</td><td>Ferrari</td><td>24</td><td>189.0</td><td>7.875</td></tr><tr><td>1977</td><td>McLaren</td><td>20</td><td>124.0</td><td>6.2</td></tr><tr><td>1978</td><td>Ferrari</td><td>20</td><td>119.0</td><td>5.95</td></tr><tr><td>1978</td><td>Williams</td><td>7</td><td>32.0</td><td>4.571428571428571</td></tr><tr><td>1978</td><td>McLaren</td><td>21</td><td>86.0</td><td>4.095238095238095</td></tr><tr><td>1979</td><td>Ferrari</td><td>24</td><td>183.0</td><td>7.625</td></tr><tr><td>1979</td><td>Williams</td><td>17</td><td>117.0</td><td>6.882352941176471</td></tr><tr><td>1979</td><td>McLaren</td><td>13</td><td>55.0</td><td>4.230769230769231</td></tr><tr><td>1980</td><td>Williams</td><td>22</td><td>182.0</td><td>8.272727272727273</td></tr><tr><td>1980</td><td>McLaren</td><td>10</td><td>50.0</td><td>5.0</td></tr><tr><td>1980</td><td>Ferrari</td><td>12</td><td>47.0</td><td>3.9166666666666665</td></tr><tr><td>1981</td><td>Williams</td><td>21</td><td>154.0</td><td>7.333333333333333</td></tr><tr><td>1981</td><td>Ferrari</td><td>13</td><td>72.0</td><td>5.538461538461538</td></tr><tr><td>1981</td><td>McLaren</td><td>13</td><td>70.0</td><td>5.384615384615385</td></tr><tr><td>1982</td><td>Ferrari</td><td>16</td><td>122.0</td><td>7.625</td></tr><tr><td>1982</td><td>McLaren</td><td>17</td><td>118.0</td><td>6.9411764705882355</td></tr><tr><td>1982</td><td>Williams</td><td>20</td><td>128.0</td><td>6.4</td></tr><tr><td>1983</td><td>Ferrari</td><td>20</td><td>148.0</td><td>7.4</td></tr><tr><td>1983</td><td>McLaren</td><td>12</td><td>74.0</td><td>6.166666666666667</td></tr><tr><td>1983</td><td>Williams</td><td>16</td><td>94.0</td><td>5.875</td></tr><tr><td>1984</td><td>McLaren</td><td>21</td><td>191.0</td><td>9.095238095238095</td></tr><tr><td>1984</td><td>Ferrari</td><td>18</td><td>123.0</td><td>6.833333333333333</td></tr><tr><td>1984</td><td>Williams</td><td>10</td><td>60.0</td><td>6.0</td></tr><tr><td>1985</td><td>McLaren</td><td>16</td><td>134.0</td><td>8.375</td></tr><tr><td>1985</td><td>Ferrari</td><td>20</td><td>147.0</td><td>7.35</td></tr><tr><td>1985</td><td>Williams</td><td>17</td><td>123.0</td><td>7.235294117647059</td></tr><tr><td>1986</td><td>Williams</td><td>24</td><td>205.0</td><td>8.541666666666666</td></tr><tr><td>1986</td><td>McLaren</td><td>21</td><td>161.0</td><td>7.666666666666667</td></tr><tr><td>1986</td><td>Ferrari</td><td>15</td><td>88.0</td><td>5.866666666666666</td></tr><tr><td>1987</td><td>Williams</td><td>22</td><td>189.0</td><td>8.590909090909092</td></tr><tr><td>1987</td><td>Ferrari</td><td>12</td><td>92.0</td><td>7.666666666666667</td></tr><tr><td>1987</td><td>McLaren</td><td>22</td><td>149.0</td><td>6.7727272727272725</td></tr><tr><td>1988</td><td>McLaren</td><td>28</td><td>253.0</td><td>9.035714285714286</td></tr><tr><td>1988</td><td>Ferrari</td><td>18</td><td>129.0</td><td>7.166666666666667</td></tr><tr><td>1988</td><td>Williams</td><td>10</td><td>57.0</td><td>5.7</td></tr><tr><td>1989</td><td>Ferrari</td><td>9</td><td>82.0</td><td>9.11111111111111</td></tr><tr><td>1989</td><td>McLaren</td><td>21</td><td>188.0</td><td>8.952380952380953</td></tr><tr><td>1989</td><td>Williams</td><td>19</td><td>137.0</td><td>7.2105263157894735</td></tr><tr><td>1990</td><td>Ferrari</td><td>19</td><td>163.0</td><td>8.578947368421053</td></tr><tr><td>1990</td><td>McLaren</td><td>22</td><td>187.0</td><td>8.5</td></tr><tr><td>1990</td><td>Williams</td><td>21</td><td>130.0</td><td>6.190476190476191</td></tr><tr><td>1991</td><td>Williams</td><td>21</td><td>179.0</td><td>8.523809523809524</td></tr><tr><td>1991</td><td>McLaren</td><td>24</td><td>204.0</td><td>8.5</td></tr><tr><td>1991</td><td>Ferrari</td><td>16</td><td>117.0</td><td>7.3125</td></tr><tr><td>1992</td><td>Williams</td><td>23</td><td>206.0</td><td>8.956521739130435</td></tr><tr><td>1992</td><td>McLaren</td><td>19</td><td>150.0</td><td>7.894736842105263</td></tr><tr><td>1992</td><td>Ferrari</td><td>10</td><td>56.0</td><td>5.6</td></tr><tr><td>1993</td><td>Williams</td><td>24</td><td>217.0</td><td>9.041666666666666</td></tr><tr><td>1993</td><td>McLaren</td><td>17</td><td>128.0</td><td>7.529411764705882</td></tr><tr><td>1993</td><td>Ferrari</td><td>14</td><td>77.0</td><td>5.5</td></tr><tr><td>1994</td><td>Williams</td><td>20</td><td>163.0</td><td>8.15</td></tr><tr><td>1994</td><td>Ferrari</td><td>17</td><td>127.0</td><td>7.470588235294118</td></tr><tr><td>1994</td><td>McLaren</td><td>13</td><td>91.0</td><td>7.0</td></tr><tr><td>1995</td><td>Williams</td><td>19</td><td>167.0</td><td>8.789473684210526</td></tr><tr><td>1995</td><td>Ferrari</td><td>18</td><td>137.0</td><td>7.611111111111111</td></tr><tr><td>1995</td><td>McLaren</td><td>17</td><td>85.0</td><td>5.0</td></tr><tr><td>1996</td><td>Williams</td><td>24</td><td>216.0</td><td>9.0</td></tr><tr><td>1996</td><td>Ferrari</td><td>16</td><td>117.0</td><td>7.3125</td></tr><tr><td>1996</td><td>McLaren</td><td>21</td><td>129.0</td><td>6.142857142857143</td></tr><tr><td>1997</td><td>Williams</td><td>23</td><td>177.0</td><td>7.695652173913044</td></tr><tr><td>1997</td><td>Ferrari</td><td>22</td><td>160.0</td><td>7.2727272727272725</td></tr><tr><td>1997</td><td>McLaren</td><td>19</td><td>117.0</td><td>6.157894736842105</td></tr><tr><td>1998</td><td>McLaren</td><td>25</td><td>212.0</td><td>8.48</td></tr><tr><td>1998</td><td>Ferrari</td><td>26</td><td>203.0</td><td>7.8076923076923075</td></tr><tr><td>1998</td><td>Williams</td><td>24</td><td>125.0</td><td>5.208333333333333</td></tr><tr><td>1999</td><td>McLaren</td><td>20</td><td>170.0</td><td>8.5</td></tr><tr><td>1999</td><td>Ferrari</td><td>27</td><td>203.0</td><td>7.518518518518518</td></tr><tr><td>1999</td><td>Williams</td><td>16</td><td>91.0</td><td>5.6875</td></tr><tr><td>2000</td><td>Ferrari</td><td>26</td><td>228.0</td><td>8.76923076923077</td></tr><tr><td>2000</td><td>McLaren</td><td>28</td><td>236.0</td><td>8.428571428571429</td></tr><tr><td>2000</td><td>Williams</td><td>18</td><td>102.0</td><td>5.666666666666667</td></tr><tr><td>2001</td><td>Ferrari</td><td>28</td><td>245.0</td><td>8.75</td></tr><tr><td>2001</td><td>Williams</td><td>16</td><td>123.0</td><td>7.6875</td></tr><tr><td>2001</td><td>McLaren</td><td>23</td><td>173.0</td><td>7.521739130434782</td></tr><tr><td>2002</td><td>Ferrari</td><td>29</td><td>267.0</td><td>9.206896551724139</td></tr><tr><td>2002</td><td>Williams</td><td>24</td><td>178.0</td><td>7.416666666666667</td></tr><tr><td>2002</td><td>McLaren</td><td>19</td><td>132.0</td><td>6.947368421052632</td></tr><tr><td>2003</td><td>McLaren</td><td>23</td><td>176.0</td><td>7.6521739130434785</td></tr><tr><td>2003</td><td>Ferrari</td><td>26</td><td>193.0</td><td>7.423076923076923</td></tr><tr><td>2003</td><td>Williams</td><td>25</td><td>180.0</td><td>7.2</td></tr><tr><td>2004</td><td>Ferrari</td><td>32</td><td>287.0</td><td>8.96875</td></tr><tr><td>2004</td><td>Williams</td><td>24</td><td>130.0</td><td>5.416666666666667</td></tr><tr><td>2004</td><td>McLaren</td><td>21</td><td>106.0</td><td>5.0476190476190474</td></tr><tr><td>2005</td><td>McLaren</td><td>27</td><td>212.0</td><td>7.851851851851852</td></tr><tr><td>2005</td><td>Williams</td><td>17</td><td>97.0</td><td>5.705882352941177</td></tr><tr><td>2005</td><td>Ferrari</td><td>27</td><td>143.0</td><td>5.296296296296297</td></tr><tr><td>2005</td><td>Red Bull</td><td>22</td><td>77.0</td><td>3.5</td></tr><tr><td>2006</td><td>Ferrari</td><td>32</td><td>240.0</td><td>7.5</td></tr><tr><td>2006</td><td>McLaren</td><td>22</td><td>150.0</td><td>6.818181818181818</td></tr><tr><td>2006</td><td>Red Bull</td><td>10</td><td>35.0</td><td>3.5</td></tr><tr><td>2006</td><td>Williams</td><td>11</td><td>30.0</td><td>2.727272727272727</td></tr><tr><td>2007</td><td>Ferrari</td><td>29</td><td>238.0</td><td>8.206896551724139</td></tr><tr><td>2007</td><td>McLaren</td><td>32</td><td>257.0</td><td>8.03125</td></tr><tr><td>2007</td><td>Williams</td><td>16</td><td>61.0</td><td>3.8125</td></tr><tr><td>2007</td><td>Red Bull</td><td>14</td><td>49.0</td><td>3.5</td></tr><tr><td>2008</td><td>Ferrari</td><td>27</td><td>206.0</td><td>7.62962962962963</td></tr><tr><td>2008</td><td>McLaren</td><td>29</td><td>191.0</td><td>6.586206896551724</td></tr><tr><td>2008</td><td>Williams</td><td>13</td><td>49.0</td><td>3.769230769230769</td></tr><tr><td>2008</td><td>Red Bull</td><td>18</td><td>63.0</td><td>3.5</td></tr><tr><td>2009</td><td>Red Bull</td><td>24</td><td>185.0</td><td>7.708333333333333</td></tr><tr><td>2009</td><td>McLaren</td><td>17</td><td>101.0</td><td>5.9411764705882355</td></tr><tr><td>2009</td><td>Ferrari</td><td>19</td><td>103.0</td><td>5.421052631578948</td></tr><tr><td>2009</td><td>Williams</td><td>16</td><td>66.0</td><td>4.125</td></tr><tr><td>2010</td><td>Red Bull</td><td>32</td><td>241.0</td><td>7.53125</td></tr><tr><td>2010</td><td>McLaren</td><td>31</td><td>231.0</td><td>7.451612903225806</td></tr><tr><td>2010</td><td>Ferrari</td><td>30</td><td>203.0</td><td>6.766666666666667</td></tr><tr><td>2010</td><td>Mercedes</td><td>27</td><td>131.0</td><td>4.851851851851852</td></tr><tr><td>2010</td><td>Williams</td><td>17</td><td>48.0</td><td>2.823529411764706</td></tr><tr><td>2011</td><td>Red Bull</td><td>36</td><td>308.0</td><td>8.555555555555555</td></tr><tr><td>2011</td><td>McLaren</td><td>33</td><td>251.0</td><td>7.606060606060606</td></tr><tr><td>2011</td><td>Ferrari</td><td>33</td><td>210.0</td><td>6.363636363636363</td></tr><tr><td>2011</td><td>Mercedes</td><td>25</td><td>107.0</td><td>4.28</td></tr><tr><td>2011</td><td>Williams</td><td>3</td><td>5.0</td><td>1.6666666666666667</td></tr><tr><td>2012</td><td>Red Bull</td><td>32</td><td>232.0</td><td>7.25</td></tr><tr><td>2012</td><td>McLaren</td><td>28</td><td>187.0</td><td>6.678571428571429</td></tr><tr><td>2012</td><td>Ferrari</td><td>32</td><td>212.0</td><td>6.625</td></tr><tr><td>2012</td><td>Mercedes</td><td>18</td><td>82.0</td><td>4.555555555555555</td></tr><tr><td>2012</td><td>Williams</td><td>15</td><td>47.0</td><td>3.1333333333333333</td></tr><tr><td>2013</td><td>Red Bull</td><td>33</td><td>277.0</td><td>8.393939393939394</td></tr><tr><td>2013</td><td>Ferrari</td><td>32</td><td>195.0</td><td>6.09375</td></tr><tr><td>2013</td><td>Mercedes</td><td>33</td><td>199.0</td><td>6.03030303030303</td></tr><tr><td>2013</td><td>McLaren</td><td>25</td><td>84.0</td><td>3.36</td></tr><tr><td>2013</td><td>Williams</td><td>2</td><td>4.0</td><td>2.0</td></tr><tr><td>2014</td><td>Mercedes</td><td>32</td><td>300.0</td><td>9.375</td></tr><tr><td>2014</td><td>Red Bull</td><td>32</td><td>211.0</td><td>6.59375</td></tr><tr><td>2014</td><td>Williams</td><td>28</td><td>165.0</td><td>5.892857142857143</td></tr><tr><td>2014</td><td>Ferrari</td><td>30</td><td>133.0</td><td>4.433333333333334</td></tr><tr><td>2014</td><td>McLaren</td><td>25</td><td>107.0</td><td>4.28</td></tr><tr><td>2015</td><td>Mercedes</td><td>35</td><td>316.0</td><td>9.028571428571428</td></tr><tr><td>2015</td><td>Ferrari</td><td>31</td><td>226.0</td><td>7.290322580645161</td></tr><tr><td>2015</td><td>Williams</td><td>26</td><td>152.0</td><td>5.846153846153846</td></tr><tr><td>2015</td><td>Red Bull</td><td>27</td><td>115.0</td><td>4.2592592592592595</td></tr><tr><td>2015</td><td>McLaren</td><td>6</td><td>19.0</td><td>3.1666666666666665</td></tr><tr><td>2016</td><td>Mercedes</td><td>39</td><td>344.0</td><td>8.820512820512821</td></tr><tr><td>2016</td><td>Red Bull</td><td>36</td><td>252.0</td><td>7.0</td></tr><tr><td>2016</td><td>Ferrari</td><td>34</td><td>225.0</td><td>6.617647058823529</td></tr><tr><td>2016</td><td>Williams</td><td>28</td><td>94.0</td><td>3.357142857142857</td></tr><tr><td>2016</td><td>McLaren</td><td>17</td><td>53.0</td><td>3.1176470588235294</td></tr><tr><td>2017</td><td>Mercedes</td><td>39</td><td>319.0</td><td>8.179487179487179</td></tr><tr><td>2017</td><td>Ferrari</td><td>34</td><td>266.0</td><td>7.823529411764706</td></tr><tr><td>2017</td><td>Red Bull</td><td>27</td><td>194.0</td><td>7.185185185185185</td></tr><tr><td>2017</td><td>Williams</td><td>20</td><td>59.0</td><td>2.95</td></tr><tr><td>2017</td><td>McLaren</td><td>8</td><td>22.0</td><td>2.75</td></tr><tr><td>2018</td><td>Mercedes</td><td>39</td><td>316.0</td><td>8.102564102564102</td></tr><tr><td>2018</td><td>Ferrari</td><td>37</td><td>289.0</td><td>7.8108108108108105</td></tr><tr><td>2018</td><td>Red Bull</td><td>30</td><td>219.0</td><td>7.3</td></tr><tr><td>2018</td><td>McLaren</td><td>13</td><td>44.0</td><td>3.3846153846153846</td></tr><tr><td>2018</td><td>Williams</td><td>2</td><td>4.0</td><td>2.0</td></tr><tr><td>2019</td><td>Mercedes</td><td>40</td><td>339.0</td><td>8.475</td></tr><tr><td>2019</td><td>Ferrari</td><td>34</td><td>261.0</td><td>7.676470588235294</td></tr><tr><td>2019</td><td>Red Bull</td><td>36</td><td>227.0</td><td>6.305555555555555</td></tr><tr><td>2019</td><td>McLaren</td><td>24</td><td>95.0</td><td>3.9583333333333335</td></tr><tr><td>2019</td><td>Williams</td><td>1</td><td>1.0</td><td>1.0</td></tr><tr><td>2020</td><td>Mercedes</td><td>31</td><td>258.0</td><td>8.32258064516129</td></tr><tr><td>2020</td><td>Red Bull</td><td>24</td><td>166.0</td><td>6.916666666666667</td></tr><tr><td>2020</td><td>McLaren</td><td>25</td><td>122.0</td><td>4.88</td></tr><tr><td>2020</td><td>Ferrari</td><td>17</td><td>78.0</td><td>4.588235294117647</td></tr></tbody></table></div>"
      ]
     },
     "metadata": {
      "application/vnd.databricks.v1+output": {
       "addedWidgets": {},
       "aggData": [],
       "aggError": "",
       "aggOverflow": false,
       "aggSchema": [],
       "aggSeriesLimitReached": false,
       "aggType": "",
       "arguments": {},
       "columnCustomDisplayInfos": {},
       "data": [
        [
         1950,
         "Ferrari",
         8,
         57.0,
         7.125
        ],
        [
         1951,
         "Ferrari",
         22,
         168.0,
         7.636363636363637
        ],
        [
         1952,
         "Ferrari",
         28,
         202.0,
         7.214285714285714
        ],
        [
         1953,
         "Ferrari",
         35,
         230.0,
         6.571428571428571
        ],
        [
         1954,
         "Mercedes",
         12,
         96.0,
         8.0
        ],
        [
         1954,
         "Ferrari",
         25,
         175.0,
         7.0
        ],
        [
         1955,
         "Mercedes",
         15,
         124.0,
         8.266666666666667
        ],
        [
         1955,
         "Ferrari",
         21,
         131.0,
         6.238095238095238
        ],
        [
         1956,
         "Ferrari",
         23,
         172.0,
         7.478260869565218
        ],
        [
         1957,
         "Ferrari",
         20,
         130.0,
         6.5
        ],
        [
         1958,
         "Ferrari",
         21,
         159.0,
         7.571428571428571
        ],
        [
         1959,
         "Ferrari",
         19,
         132.0,
         6.947368421052632
        ],
        [
         1960,
         "Ferrari",
         17,
         102.0,
         6.0
        ],
        [
         1961,
         "Ferrari",
         19,
         152.0,
         8.0
        ],
        [
         1962,
         "Ferrari",
         12,
         73.0,
         6.083333333333333
        ],
        [
         1963,
         "Ferrari",
         8,
         53.0,
         6.625
        ],
        [
         1964,
         "Ferrari",
         15,
         105.0,
         7.0
        ],
        [
         1965,
         "Ferrari",
         16,
         86.0,
         5.375
        ],
        [
         1966,
         "Ferrari",
         8,
         65.0,
         8.125
        ],
        [
         1967,
         "Ferrari",
         11,
         64.0,
         5.818181818181818
        ],
        [
         1968,
         "Ferrari",
         10,
         70.0,
         7.0
        ],
        [
         1969,
         "Ferrari",
         4,
         23.0,
         5.75
        ],
        [
         1970,
         "Ferrari",
         15,
         119.0,
         7.933333333333334
        ],
        [
         1971,
         "Ferrari",
         11,
         79.0,
         7.181818181818182
        ],
        [
         1971,
         "McLaren",
         11,
         46.0,
         4.181818181818182
        ],
        [
         1972,
         "McLaren",
         20,
         136.0,
         6.8
        ],
        [
         1972,
         "Ferrari",
         15,
         99.0,
         6.6
        ],
        [
         1973,
         "McLaren",
         24,
         147.0,
         6.125
        ],
        [
         1973,
         "Ferrari",
         11,
         54.0,
         4.909090909090909
        ],
        [
         1974,
         "Ferrari",
         17,
         142.0,
         8.352941176470589
        ],
        [
         1974,
         "McLaren",
         31,
         187.0,
         6.032258064516129
        ],
        [
         1975,
         "Ferrari",
         20,
         150.0,
         7.5
        ],
        [
         1975,
         "McLaren",
         18,
         127.0,
         7.055555555555555
        ],
        [
         1975,
         "Williams",
         2,
         13.0,
         6.5
        ],
        [
         1976,
         "McLaren",
         20,
         147.0,
         7.35
        ],
        [
         1976,
         "Ferrari",
         22,
         159.0,
         7.2272727272727275
        ],
        [
         1976,
         "Williams",
         1,
         2.0,
         2.0
        ],
        [
         1977,
         "Ferrari",
         24,
         189.0,
         7.875
        ],
        [
         1977,
         "McLaren",
         20,
         124.0,
         6.2
        ],
        [
         1978,
         "Ferrari",
         20,
         119.0,
         5.95
        ],
        [
         1978,
         "Williams",
         7,
         32.0,
         4.571428571428571
        ],
        [
         1978,
         "McLaren",
         21,
         86.0,
         4.095238095238095
        ],
        [
         1979,
         "Ferrari",
         24,
         183.0,
         7.625
        ],
        [
         1979,
         "Williams",
         17,
         117.0,
         6.882352941176471
        ],
        [
         1979,
         "McLaren",
         13,
         55.0,
         4.230769230769231
        ],
        [
         1980,
         "Williams",
         22,
         182.0,
         8.272727272727273
        ],
        [
         1980,
         "McLaren",
         10,
         50.0,
         5.0
        ],
        [
         1980,
         "Ferrari",
         12,
         47.0,
         3.9166666666666665
        ],
        [
         1981,
         "Williams",
         21,
         154.0,
         7.333333333333333
        ],
        [
         1981,
         "Ferrari",
         13,
         72.0,
         5.538461538461538
        ],
        [
         1981,
         "McLaren",
         13,
         70.0,
         5.384615384615385
        ],
        [
         1982,
         "Ferrari",
         16,
         122.0,
         7.625
        ],
        [
         1982,
         "McLaren",
         17,
         118.0,
         6.9411764705882355
        ],
        [
         1982,
         "Williams",
         20,
         128.0,
         6.4
        ],
        [
         1983,
         "Ferrari",
         20,
         148.0,
         7.4
        ],
        [
         1983,
         "McLaren",
         12,
         74.0,
         6.166666666666667
        ],
        [
         1983,
         "Williams",
         16,
         94.0,
         5.875
        ],
        [
         1984,
         "McLaren",
         21,
         191.0,
         9.095238095238095
        ],
        [
         1984,
         "Ferrari",
         18,
         123.0,
         6.833333333333333
        ],
        [
         1984,
         "Williams",
         10,
         60.0,
         6.0
        ],
        [
         1985,
         "McLaren",
         16,
         134.0,
         8.375
        ],
        [
         1985,
         "Ferrari",
         20,
         147.0,
         7.35
        ],
        [
         1985,
         "Williams",
         17,
         123.0,
         7.235294117647059
        ],
        [
         1986,
         "Williams",
         24,
         205.0,
         8.541666666666666
        ],
        [
         1986,
         "McLaren",
         21,
         161.0,
         7.666666666666667
        ],
        [
         1986,
         "Ferrari",
         15,
         88.0,
         5.866666666666666
        ],
        [
         1987,
         "Williams",
         22,
         189.0,
         8.590909090909092
        ],
        [
         1987,
         "Ferrari",
         12,
         92.0,
         7.666666666666667
        ],
        [
         1987,
         "McLaren",
         22,
         149.0,
         6.7727272727272725
        ],
        [
         1988,
         "McLaren",
         28,
         253.0,
         9.035714285714286
        ],
        [
         1988,
         "Ferrari",
         18,
         129.0,
         7.166666666666667
        ],
        [
         1988,
         "Williams",
         10,
         57.0,
         5.7
        ],
        [
         1989,
         "Ferrari",
         9,
         82.0,
         9.11111111111111
        ],
        [
         1989,
         "McLaren",
         21,
         188.0,
         8.952380952380953
        ],
        [
         1989,
         "Williams",
         19,
         137.0,
         7.2105263157894735
        ],
        [
         1990,
         "Ferrari",
         19,
         163.0,
         8.578947368421053
        ],
        [
         1990,
         "McLaren",
         22,
         187.0,
         8.5
        ],
        [
         1990,
         "Williams",
         21,
         130.0,
         6.190476190476191
        ],
        [
         1991,
         "Williams",
         21,
         179.0,
         8.523809523809524
        ],
        [
         1991,
         "McLaren",
         24,
         204.0,
         8.5
        ],
        [
         1991,
         "Ferrari",
         16,
         117.0,
         7.3125
        ],
        [
         1992,
         "Williams",
         23,
         206.0,
         8.956521739130435
        ],
        [
         1992,
         "McLaren",
         19,
         150.0,
         7.894736842105263
        ],
        [
         1992,
         "Ferrari",
         10,
         56.0,
         5.6
        ],
        [
         1993,
         "Williams",
         24,
         217.0,
         9.041666666666666
        ],
        [
         1993,
         "McLaren",
         17,
         128.0,
         7.529411764705882
        ],
        [
         1993,
         "Ferrari",
         14,
         77.0,
         5.5
        ],
        [
         1994,
         "Williams",
         20,
         163.0,
         8.15
        ],
        [
         1994,
         "Ferrari",
         17,
         127.0,
         7.470588235294118
        ],
        [
         1994,
         "McLaren",
         13,
         91.0,
         7.0
        ],
        [
         1995,
         "Williams",
         19,
         167.0,
         8.789473684210526
        ],
        [
         1995,
         "Ferrari",
         18,
         137.0,
         7.611111111111111
        ],
        [
         1995,
         "McLaren",
         17,
         85.0,
         5.0
        ],
        [
         1996,
         "Williams",
         24,
         216.0,
         9.0
        ],
        [
         1996,
         "Ferrari",
         16,
         117.0,
         7.3125
        ],
        [
         1996,
         "McLaren",
         21,
         129.0,
         6.142857142857143
        ],
        [
         1997,
         "Williams",
         23,
         177.0,
         7.695652173913044
        ],
        [
         1997,
         "Ferrari",
         22,
         160.0,
         7.2727272727272725
        ],
        [
         1997,
         "McLaren",
         19,
         117.0,
         6.157894736842105
        ],
        [
         1998,
         "McLaren",
         25,
         212.0,
         8.48
        ],
        [
         1998,
         "Ferrari",
         26,
         203.0,
         7.8076923076923075
        ],
        [
         1998,
         "Williams",
         24,
         125.0,
         5.208333333333333
        ],
        [
         1999,
         "McLaren",
         20,
         170.0,
         8.5
        ],
        [
         1999,
         "Ferrari",
         27,
         203.0,
         7.518518518518518
        ],
        [
         1999,
         "Williams",
         16,
         91.0,
         5.6875
        ],
        [
         2000,
         "Ferrari",
         26,
         228.0,
         8.76923076923077
        ],
        [
         2000,
         "McLaren",
         28,
         236.0,
         8.428571428571429
        ],
        [
         2000,
         "Williams",
         18,
         102.0,
         5.666666666666667
        ],
        [
         2001,
         "Ferrari",
         28,
         245.0,
         8.75
        ],
        [
         2001,
         "Williams",
         16,
         123.0,
         7.6875
        ],
        [
         2001,
         "McLaren",
         23,
         173.0,
         7.521739130434782
        ],
        [
         2002,
         "Ferrari",
         29,
         267.0,
         9.206896551724139
        ],
        [
         2002,
         "Williams",
         24,
         178.0,
         7.416666666666667
        ],
        [
         2002,
         "McLaren",
         19,
         132.0,
         6.947368421052632
        ],
        [
         2003,
         "McLaren",
         23,
         176.0,
         7.6521739130434785
        ],
        [
         2003,
         "Ferrari",
         26,
         193.0,
         7.423076923076923
        ],
        [
         2003,
         "Williams",
         25,
         180.0,
         7.2
        ],
        [
         2004,
         "Ferrari",
         32,
         287.0,
         8.96875
        ],
        [
         2004,
         "Williams",
         24,
         130.0,
         5.416666666666667
        ],
        [
         2004,
         "McLaren",
         21,
         106.0,
         5.0476190476190474
        ],
        [
         2005,
         "McLaren",
         27,
         212.0,
         7.851851851851852
        ],
        [
         2005,
         "Williams",
         17,
         97.0,
         5.705882352941177
        ],
        [
         2005,
         "Ferrari",
         27,
         143.0,
         5.296296296296297
        ],
        [
         2005,
         "Red Bull",
         22,
         77.0,
         3.5
        ],
        [
         2006,
         "Ferrari",
         32,
         240.0,
         7.5
        ],
        [
         2006,
         "McLaren",
         22,
         150.0,
         6.818181818181818
        ],
        [
         2006,
         "Red Bull",
         10,
         35.0,
         3.5
        ],
        [
         2006,
         "Williams",
         11,
         30.0,
         2.727272727272727
        ],
        [
         2007,
         "Ferrari",
         29,
         238.0,
         8.206896551724139
        ],
        [
         2007,
         "McLaren",
         32,
         257.0,
         8.03125
        ],
        [
         2007,
         "Williams",
         16,
         61.0,
         3.8125
        ],
        [
         2007,
         "Red Bull",
         14,
         49.0,
         3.5
        ],
        [
         2008,
         "Ferrari",
         27,
         206.0,
         7.62962962962963
        ],
        [
         2008,
         "McLaren",
         29,
         191.0,
         6.586206896551724
        ],
        [
         2008,
         "Williams",
         13,
         49.0,
         3.769230769230769
        ],
        [
         2008,
         "Red Bull",
         18,
         63.0,
         3.5
        ],
        [
         2009,
         "Red Bull",
         24,
         185.0,
         7.708333333333333
        ],
        [
         2009,
         "McLaren",
         17,
         101.0,
         5.9411764705882355
        ],
        [
         2009,
         "Ferrari",
         19,
         103.0,
         5.421052631578948
        ],
        [
         2009,
         "Williams",
         16,
         66.0,
         4.125
        ],
        [
         2010,
         "Red Bull",
         32,
         241.0,
         7.53125
        ],
        [
         2010,
         "McLaren",
         31,
         231.0,
         7.451612903225806
        ],
        [
         2010,
         "Ferrari",
         30,
         203.0,
         6.766666666666667
        ],
        [
         2010,
         "Mercedes",
         27,
         131.0,
         4.851851851851852
        ],
        [
         2010,
         "Williams",
         17,
         48.0,
         2.823529411764706
        ],
        [
         2011,
         "Red Bull",
         36,
         308.0,
         8.555555555555555
        ],
        [
         2011,
         "McLaren",
         33,
         251.0,
         7.606060606060606
        ],
        [
         2011,
         "Ferrari",
         33,
         210.0,
         6.363636363636363
        ],
        [
         2011,
         "Mercedes",
         25,
         107.0,
         4.28
        ],
        [
         2011,
         "Williams",
         3,
         5.0,
         1.6666666666666667
        ],
        [
         2012,
         "Red Bull",
         32,
         232.0,
         7.25
        ],
        [
         2012,
         "McLaren",
         28,
         187.0,
         6.678571428571429
        ],
        [
         2012,
         "Ferrari",
         32,
         212.0,
         6.625
        ],
        [
         2012,
         "Mercedes",
         18,
         82.0,
         4.555555555555555
        ],
        [
         2012,
         "Williams",
         15,
         47.0,
         3.1333333333333333
        ],
        [
         2013,
         "Red Bull",
         33,
         277.0,
         8.393939393939394
        ],
        [
         2013,
         "Ferrari",
         32,
         195.0,
         6.09375
        ],
        [
         2013,
         "Mercedes",
         33,
         199.0,
         6.03030303030303
        ],
        [
         2013,
         "McLaren",
         25,
         84.0,
         3.36
        ],
        [
         2013,
         "Williams",
         2,
         4.0,
         2.0
        ],
        [
         2014,
         "Mercedes",
         32,
         300.0,
         9.375
        ],
        [
         2014,
         "Red Bull",
         32,
         211.0,
         6.59375
        ],
        [
         2014,
         "Williams",
         28,
         165.0,
         5.892857142857143
        ],
        [
         2014,
         "Ferrari",
         30,
         133.0,
         4.433333333333334
        ],
        [
         2014,
         "McLaren",
         25,
         107.0,
         4.28
        ],
        [
         2015,
         "Mercedes",
         35,
         316.0,
         9.028571428571428
        ],
        [
         2015,
         "Ferrari",
         31,
         226.0,
         7.290322580645161
        ],
        [
         2015,
         "Williams",
         26,
         152.0,
         5.846153846153846
        ],
        [
         2015,
         "Red Bull",
         27,
         115.0,
         4.2592592592592595
        ],
        [
         2015,
         "McLaren",
         6,
         19.0,
         3.1666666666666665
        ],
        [
         2016,
         "Mercedes",
         39,
         344.0,
         8.820512820512821
        ],
        [
         2016,
         "Red Bull",
         36,
         252.0,
         7.0
        ],
        [
         2016,
         "Ferrari",
         34,
         225.0,
         6.617647058823529
        ],
        [
         2016,
         "Williams",
         28,
         94.0,
         3.357142857142857
        ],
        [
         2016,
         "McLaren",
         17,
         53.0,
         3.1176470588235294
        ],
        [
         2017,
         "Mercedes",
         39,
         319.0,
         8.179487179487179
        ],
        [
         2017,
         "Ferrari",
         34,
         266.0,
         7.823529411764706
        ],
        [
         2017,
         "Red Bull",
         27,
         194.0,
         7.185185185185185
        ],
        [
         2017,
         "Williams",
         20,
         59.0,
         2.95
        ],
        [
         2017,
         "McLaren",
         8,
         22.0,
         2.75
        ],
        [
         2018,
         "Mercedes",
         39,
         316.0,
         8.102564102564102
        ],
        [
         2018,
         "Ferrari",
         37,
         289.0,
         7.8108108108108105
        ],
        [
         2018,
         "Red Bull",
         30,
         219.0,
         7.3
        ],
        [
         2018,
         "McLaren",
         13,
         44.0,
         3.3846153846153846
        ],
        [
         2018,
         "Williams",
         2,
         4.0,
         2.0
        ],
        [
         2019,
         "Mercedes",
         40,
         339.0,
         8.475
        ],
        [
         2019,
         "Ferrari",
         34,
         261.0,
         7.676470588235294
        ],
        [
         2019,
         "Red Bull",
         36,
         227.0,
         6.305555555555555
        ],
        [
         2019,
         "McLaren",
         24,
         95.0,
         3.9583333333333335
        ],
        [
         2019,
         "Williams",
         1,
         1.0,
         1.0
        ],
        [
         2020,
         "Mercedes",
         31,
         258.0,
         8.32258064516129
        ],
        [
         2020,
         "Red Bull",
         24,
         166.0,
         6.916666666666667
        ],
        [
         2020,
         "McLaren",
         25,
         122.0,
         4.88
        ],
        [
         2020,
         "Ferrari",
         17,
         78.0,
         4.588235294117647
        ]
       ],
       "datasetInfos": [],
       "dbfsResultPath": null,
       "isJsonSchema": true,
       "metadata": {
        "isDbfsCommandResult": false
       },
       "overflow": false,
       "plotOptions": {
        "customPlotOptions": {},
        "displayType": "table",
        "pivotAggregation": null,
        "pivotColumns": null,
        "xColumns": null,
        "yColumns": null
       },
       "removedWidgets": [],
       "schema": [
        {
         "metadata": "{}",
         "name": "race_year",
         "type": "\"integer\""
        },
        {
         "metadata": "{}",
         "name": "team_name",
         "type": "\"string\""
        },
        {
         "metadata": "{}",
         "name": "total_races",
         "type": "\"long\""
        },
        {
         "metadata": "{}",
         "name": "total_points",
         "type": "\"double\""
        },
        {
         "metadata": "{}",
         "name": "average_points",
         "type": "\"double\""
        }
       ],
       "type": "table"
      }
     },
     "output_type": "display_data"
    },
    {
     "output_type": "display_data",
     "data": {
      "text/plain": [
       "Databricks visualization. Run in Databricks to view."
      ]
     },
     "metadata": {
      "application/vnd.databricks.v1.subcommand+json": {
       "baseErrorDetails": null,
       "bindings": {},
       "collapsed": false,
       "command": "%sql WITH q AS (SELECT race_year, team_name,\n    count(1) as total_races,\n    SUM(calculated_points) as total_points,\n    avg(calculated_points) as average_points\nFROM f1_presentation.calculate_race_results\nWHERE team_name IN (\n    SELECT team_name \n    FROM d_dominant_teams \n    WHERE team <= 5\n)\nGROUP BY race_year, team_name\nORDER BY race_year, average_points DESC) SELECT `total_points`,SUM(`race_year`) `column_8bc519dd78`,`team_name` FROM q GROUP BY `team_name`,`total_points`",
       "commandTitle": "Bar chart",
       "commandType": "auto",
       "commandVersion": 0,
       "commentThread": [],
       "commentsVisible": false,
       "contentSha256Hex": null,
       "customPlotOptions": {
        "redashChart": [
         {
          "key": "type",
          "value": "CHART"
         },
         {
          "key": "options",
          "value": {
           "alignYAxesAtZero": true,
           "coefficient": 1,
           "columnConfigurationMap": {
            "series": {
             "column": "team_name",
             "id": "column_8bc519dd80"
            },
            "x": {
             "column": "total_points",
             "id": "column_8bc519dd81"
            },
            "y": [
             {
              "column": "race_year",
              "id": "column_8bc519dd78",
              "transform": "SUM"
             }
            ]
           },
           "dateTimeFormat": "DD/MM/YYYY HH:mm",
           "direction": {
            "type": "counterclockwise"
           },
           "error_y": {
            "type": "data",
            "visible": true
           },
           "globalSeriesType": "column",
           "isAggregationOn": true,
           "legend": {
            "traceorder": "normal"
           },
           "missingValuesAsZero": true,
           "numberFormat": "0,0.[00000]",
           "percentFormat": "0[.]00%",
           "series": {
            "error_y": {
             "type": "data",
             "visible": true
            },
            "stacking": null
           },
           "seriesOptions": {
            "column_8bc519dd78": {
             "type": "column",
             "yAxis": 0
            }
           },
           "showDataLabels": false,
           "sizemode": "diameter",
           "sortX": true,
           "sortY": true,
           "swappedAxes": false,
           "textFormat": "",
           "useAggregationsUi": true,
           "valuesOptions": {},
           "version": 2,
           "xAxis": {
            "labels": {
             "enabled": true
            },
            "type": "-"
           },
           "yAxis": [
            {
             "type": "-"
            },
            {
             "opposite": true,
             "type": "-"
            }
           ]
          }
         }
        ]
       },
       "datasetPreviewNameToCmdIdMap": {},
       "diffDeletes": [],
       "diffInserts": [],
       "displayType": "redashChart",
       "error": null,
       "errorDetails": null,
       "errorSummary": null,
       "errorTraceType": null,
       "finishTime": 0,
       "globalVars": {},
       "guid": "",
       "height": "auto",
       "hideCommandCode": false,
       "hideCommandResult": false,
       "iPythonMetadata": null,
       "inputWidgets": {},
       "isLockedInExamMode": false,
       "latestUser": "a user",
       "latestUserId": null,
       "listResultMetadata": null,
       "metadata": {},
       "nuid": "d62caa19-8817-48d3-97fa-5fb13cd7b6f0",
       "origId": 0,
       "parentHierarchy": [],
       "pivotAggregation": null,
       "pivotColumns": null,
       "position": 5.0,
       "resultDbfsErrorMessage": null,
       "resultDbfsStatus": "INLINED_IN_TREE",
       "results": null,
       "showCommandTitle": false,
       "startTime": 0,
       "state": "input",
       "streamStates": {},
       "subcommandOptions": {
        "queryPlan": {
         "groups": [
          {
           "column": "total_points",
           "type": "column"
          },
          {
           "column": "team_name",
           "type": "column"
          }
         ],
         "selects": [
          {
           "column": "total_points",
           "type": "column"
          },
          {
           "alias": "column_8bc519dd78",
           "args": [
            {
             "column": "race_year",
             "type": "column"
            }
           ],
           "function": "SUM",
           "type": "function"
          },
          {
           "column": "team_name",
           "type": "column"
          }
         ]
        }
       },
       "submitTime": 0,
       "subtype": "tableResultSubCmd.visualization",
       "tableResultIndex": 0,
       "tableResultSettingsMap": {},
       "useConsistentColors": false,
       "version": "CommandV1",
       "width": "auto",
       "workflows": [],
       "xColumns": null,
       "yColumns": null
      }
     },
     "output_type": "display_data"
    }
   ],
   "source": [
    "SELECT race_year, team_name,\n",
    "    count(1) as total_races,\n",
    "    SUM(calculated_points) as total_points,\n",
    "    avg(calculated_points) as average_points\n",
    "FROM f1_presentation.calculate_race_results\n",
    "WHERE team_name IN (\n",
    "    SELECT team_name \n",
    "    FROM d_dominant_teams \n",
    "    WHERE team <= 5\n",
    ")\n",
    "GROUP BY race_year, team_name\n",
    "ORDER BY race_year, average_points DESC;"
   ]
  }
 ],
 "metadata": {
  "application/vnd.databricks.v1+notebook": {
   "computePreferences": null,
   "dashboards": [
    {
     "elements": [
      {
       "dashboardResultIndex": null,
       "elementNUID": "d9f40672-46c6-41d8-8473-37b48f4da4ea",
       "elementType": "command",
       "guid": "2048454c-06e5-45c2-ac88-4f07e7284a3f",
       "options": null,
       "position": {
        "height": 6,
        "width": 12,
        "x": 0,
        "y": 2,
        "z": null
       },
       "resultIndex": null
      },
      {
       "dashboardResultIndex": 0,
       "elementNUID": "6a1a4199-d020-46b2-8359-eed2e1bb10ed",
       "elementType": "command",
       "guid": "4fb7af34-7833-4cae-91f7-07c9c03c0f9a",
       "options": null,
       "position": {
        "height": 2,
        "width": 15,
        "x": 4,
        "y": 0,
        "z": null
       },
       "resultIndex": null
      },
      {
       "dashboardResultIndex": null,
       "elementNUID": "d62caa19-8817-48d3-97fa-5fb13cd7b6f0",
       "elementType": "command",
       "guid": "f92d57d5-28a7-4544-9a38-6360a23f46af",
       "options": null,
       "position": {
        "height": 6,
        "width": 12,
        "x": 12,
        "y": 2,
        "z": null
       },
       "resultIndex": null
      },
      {
       "dashboardResultIndex": null,
       "elementNUID": "105beabb-6902-409d-9ed3-6d6d8b8cd46e",
       "elementType": "command",
       "guid": "ff95a909-da58-482b-b5cc-a4fde5ef0d45",
       "options": null,
       "position": {
        "height": 6,
        "width": 12,
        "x": 6,
        "y": 8,
        "z": null
       },
       "resultIndex": null
      }
     ],
     "globalVars": {},
     "guid": "",
     "layoutOption": {
      "grid": true,
      "stack": true
     },
     "nuid": "547c26f4-95a4-4954-b9c6-ef524d406877",
     "origId": 6776429299475447,
     "title": "Dominant_Team_Dashboard",
     "version": "DashboardViewV1",
     "width": 1024
    }
   ],
   "environmentMetadata": {
    "base_environment": "",
    "environment_version": "2"
   },
   "language": "sql",
   "notebookMetadata": {
    "pythonIndentUnit": 4
   },
   "notebookName": "04. Visuvalization_Dominant_Teams",
   "widgets": {}
  },
  "language_info": {
   "name": "sql"
  }
 },
 "nbformat": 4,
 "nbformat_minor": 0
}